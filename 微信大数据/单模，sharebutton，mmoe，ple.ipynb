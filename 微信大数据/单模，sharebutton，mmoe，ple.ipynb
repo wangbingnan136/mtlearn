{
  "cells": [
    {
      "cell_type": "markdown",
      "metadata": {
        "id": "BcNP6wnl8Yfq"
      },
      "source": [
        "# DeepFM建模"
      ]
    },
    {
      "cell_type": "markdown",
      "source": [
        "from google.colab import drive\n",
        "drive.mount('/content/drive')"
      ],
      "metadata": {
        "id": "ZNtJaWB1rhDb"
      }
    },
    {
      "cell_type": "code",
      "source": [
        "from google.colab import drive\n",
        "drive.mount('/content/drive')"
      ],
      "metadata": {
        "colab": {
          "base_uri": "https://localhost:8080/"
        },
        "id": "DcksHa-WsFME",
        "outputId": "9058aa0c-5b2e-4b34-8982-090e80602777"
      },
      "execution_count": 3,
      "outputs": [
        {
          "output_type": "stream",
          "name": "stdout",
          "text": [
            "Mounted at /content/drive\n"
          ]
        }
      ]
    },
    {
      "cell_type": "markdown",
      "metadata": {
        "id": "s6srBeg382ee"
      },
      "source": [
        "## 加载数据"
      ]
    },
    {
      "cell_type": "code",
      "source": [
        "path = '/content/drive/Shareddrives/137074046的5T空间/competitions/tianchi_competitions/腾讯大数据多任务/wechat_algo_data/'"
      ],
      "metadata": {
        "id": "69IeEp_KrTzH"
      },
      "execution_count": 55,
      "outputs": []
    },
    {
      "cell_type": "code",
      "execution_count": 56,
      "metadata": {
        "id": "kloudYEG6Cws"
      },
      "outputs": [],
      "source": [
        "import joblib\n",
        "train = joblib.load(path+'train.txt')\n",
        "val = joblib.load(path+'val.txt')\n",
        "test = joblib.load(path+'test.txt')\n",
        "encoder = joblib.load(path+'encoder.txt')\n",
        "\n",
        "train_num = len(train)"
      ]
    },
    {
      "cell_type": "markdown",
      "source": [
        "    path='/content/drive/Shareddrives/137074046的5T空间/competitions/tianchi_competitions/腾讯大数据多任务/wechat_algo_data/'\n",
        "\n",
        "    joblib.dump(train, path+'train.txt')\n",
        "    joblib.dump(val, path+'val.txt')\n",
        "    joblib.dump(test, path+'test.txt')\n",
        "    joblib.dump(encoder, path+'encoder.txt')"
      ],
      "metadata": {
        "id": "_xqw-LTE21-Y"
      }
    },
    {
      "cell_type": "code",
      "source": [
        ""
      ],
      "metadata": {
        "id": "UgEAEV4K7qIE"
      },
      "execution_count": null,
      "outputs": []
    },
    {
      "cell_type": "markdown",
      "metadata": {
        "id": "TfVav1G3NM_Q"
      },
      "source": [
        "## 导入工具库"
      ]
    },
    {
      "cell_type": "code",
      "execution_count": 3,
      "metadata": {
        "id": "atU3210yKot0"
      },
      "outputs": [],
      "source": [
        "import numpy as np\n",
        "\n",
        "import gc\n",
        "import os\n",
        "import matplotlib.pyplot as plt\n",
        "\n",
        "import tensorflow as tf\n",
        "import tensorflow.keras.backend as K\n",
        "\n",
        "from tensorflow.keras.layers import *\n",
        "from tensorflow.python.keras.layers import Layer\n",
        "from tensorflow.keras import regularizers\n",
        "\n",
        "from tensorflow.keras.models import Model,load_model\n",
        "from tensorflow.keras.utils import plot_model\n",
        "from tensorflow.keras.callbacks import ModelCheckpoint,ReduceLROnPlateau,EarlyStopping\n",
        "\n",
        "from tensorflow.keras import optimizers,initializers\n",
        "from tensorflow.python.keras.initializers import glorot_normal"
      ]
    },
    {
      "cell_type": "markdown",
      "metadata": {
        "id": "XlJgKlOlNTcV"
      },
      "source": [
        "## 搭建DeepFM模型"
      ]
    },
    {
      "cell_type": "code",
      "execution_count": 4,
      "metadata": {
        "id": "6FunCHvVMzKq"
      },
      "outputs": [],
      "source": [
        "class MeanPoolLayer(Layer):\n",
        "    def __init__(self, axis, **kwargs):\n",
        "        super(MeanPoolLayer, self).__init__(**kwargs)\n",
        "        self.axis = axis\n",
        "\n",
        "    def call(self, x, mask):\n",
        "        mask = tf.expand_dims(tf.cast(mask,tf.float32),axis = -1)\n",
        "        x = x * mask\n",
        "        return K.sum(x, axis=self.axis) / (K.sum(mask, axis=self.axis) + 1e-9)\n",
        "\n",
        "def secondary_fm(W):\n",
        "    #先相加再平方。\n",
        "    frs_part = Add()(W)\n",
        "    frs_part = Multiply()([frs_part,frs_part]) \n",
        "    #先平方再相加\n",
        "    scd_part = Add()([Multiply()([_x,_x]) for _x in W])\n",
        "    #相减，乘0.5.\n",
        "    fm_part = Subtract()([frs_part,scd_part])\n",
        "    fm_part = Lambda(lambda x:K.sum(x,axis = 1,keepdims = True)*0.5,name='base_model_output_fm')(fm_part)\n",
        "    return fm_part\n",
        "\n",
        "\n",
        "def build_FM(sparse_cols,dense_cols,sparse_max_len,embed_dim = 16, \n",
        "               dnn_hidden_units=(128, 128),varlens_cols = [],varlens_max_len = {},\n",
        "               dropout = 0,embedding_reg_l2 = 1e-6,dnn_reg_l2 = 0.0):\n",
        "    ''' \n",
        "    sparse_cols,dense_cols:离散变量名，连续变量名。\n",
        "    sparse_max_len：字典：离散变量对应的最大的取值范围。\n",
        "    varlens_cols:可变离散变量名。\n",
        "    varlens_max_len:可变离散变量的最大取值范围。\n",
        "    '''\n",
        "    \n",
        "    #输入部分，分为sparse,varlens,dense部分。\n",
        "    sparse_inputs = {f:Input([1],name = f) for f in sparse_cols}\n",
        "    dense_inputs = {f:Input([1],name = f) for f in dense_cols}\n",
        "    varlens_inputs = {f:Input([None,1],name = f) for f in varlens_cols}\n",
        "        \n",
        "    input_embed = {}\n",
        "    #离散特征，embedding到k维，得到其隐向量。wi\n",
        "    for f in sparse_cols:\n",
        "        _input = sparse_inputs[f]\n",
        "        embedding = Embedding(sparse_max_len[f], embed_dim, \n",
        "            embeddings_regularizer=tf.keras.regularizers.l2(embedding_reg_l2)) \n",
        "        input_embed[f] =Flatten()(embedding(_input)) #(bs,k)\n",
        "        \n",
        "    #多标签离散变量 多标签离散变量是用的这个，masking掉了\n",
        "    for f in varlens_inputs:\n",
        "        _input = varlens_inputs[f]\n",
        "        mask = Masking(mask_value = 0).compute_mask(_input)\n",
        "        embedding = Embedding(varlens_max_len[f], embed_dim,\n",
        "            embeddings_regularizer=tf.keras.regularizers.l2(1e-6))\n",
        "        _embed =Reshape([-1,embed_dim])(embedding(_input))\n",
        "        out_embed = MeanPoolLayer(axis=1)(_embed,mask) # 这里的输出也做了mask，是直接用的masking层做的\n",
        "        input_embed[f] = out_embed\n",
        "    \n",
        "    #连续变量\n",
        "    for f in dense_inputs:\n",
        "        _input = dense_inputs[f]\n",
        "        _embed = Dense(embed_dim,use_bias = False,activation = 'linear')(_input)\n",
        "        input_embed[f] = _embed\n",
        "        \n",
        "    feature_name =  sparse_cols+varlens_cols+dense_cols\n",
        "    fm_embed = [input_embed[f] for f in feature_name]\n",
        "    fm_part = secondary_fm(fm_embed)\n",
        "    \n",
        "    #离散变量和连续变量拼接成dnn feature\n",
        "    dnn_feature = Concatenate(axis = -1)(fm_embed)\n",
        "\n",
        "    for index,num in enumerate(dnn_hidden_units):\n",
        "        if index == len(dnn_hidden_units)-1:\n",
        "          \n",
        "          dnn_feature = Dropout(dropout,name='base_model_output_dnn')(Dense(num,activation='relu',\n",
        "                      kernel_regularizer=regularizers.l2(dnn_reg_l2))(dnn_feature))\n",
        "        else:\n",
        "          dnn_feature = Dropout(dropout)(Dense(num,activation='relu',\n",
        "                      kernel_regularizer=regularizers.l2(dnn_reg_l2))(dnn_feature))\n",
        "        \n",
        "        \n",
        "\n",
        "\n",
        "    dnn_output = Dense(1,activation = 'linear', kernel_regularizer=regularizers.l2(dnn_reg_l2),\n",
        "          use_bias = True)(dnn_feature)\n",
        "    logits = Activation('sigmoid')(Add()([fm_part,dnn_output]))\n",
        "    inputs = [sparse_inputs[f] for f in sparse_inputs]+[varlens_inputs[f] for f in varlens_inputs]\\\n",
        "                +[dense_inputs[f] for f in dense_inputs]\n",
        "    model = Model(inputs,logits) \n",
        "    return model"
      ]
    },
    {
      "cell_type": "code",
      "execution_count": 6,
      "metadata": {
        "colab": {
          "base_uri": "https://localhost:8080/"
        },
        "id": "bRpBQkEcNDBs",
        "outputId": "7ec23e8b-a5dc-4ab7-9893-eba3531adef7"
      },
      "outputs": [
        {
          "output_type": "execute_result",
          "data": {
            "text/plain": [
              "22"
            ]
          },
          "metadata": {},
          "execution_count": 6
        }
      ],
      "source": [
        "# 特征与标签\n",
        "target = [\"read_comment\", \"like\", \"click_avatar\", \"forward\"]\n",
        "sparse_features = ['userid', 'feedid', 'authorid', 'bgm_song_id', 'bgm_singer_id']\n",
        "varlen_features = ['manual_tag_list','manual_keyword_list']\n",
        "dense_features = ['videoplayseconds']\n",
        "\n",
        "# 生成输入特征设置\n",
        "sparse_max_len = {f:len(encoder[f]) + 1 for f in sparse_features}\n",
        "varlens_max_len = {f:len(encoder[f]) + 1 for f in varlen_features}\n",
        "feature_names = sparse_features+varlen_features+dense_features\n",
        "\n",
        "# 构建输入数据\n",
        "## 用tf.data更好\n",
        "train_model_input = {name: train[name] if name not in varlen_features else np.stack(train[name]) for name in feature_names } #训练模型的输入，字典类型。名称和具体值\n",
        "val_model_input = {name: val[name] if name not in varlen_features else np.stack(val[name]) for name in feature_names }\n",
        "test_model_input = {name: test[name] if name not in varlen_features else np.stack(test[name]) for name in feature_names}\n",
        "\n",
        "train_labels = train['read_comment'].values\n",
        "val_labels = val['read_comment'].values\n",
        "\n",
        "# 多余的特征删除，释放内存\n",
        "#del train,val \n",
        "gc.collect()\n",
        "\n",
        "\n",
        "\n"
      ]
    },
    {
      "cell_type": "code",
      "source": [
        "model = build_FM(sparse_features,dense_features,sparse_max_len,embed_dim = 16, \n",
        "            dnn_hidden_units=(64,64),varlens_cols = varlen_features,varlens_max_len = varlens_max_len,\n",
        "            dropout = 0.1,embedding_reg_l2 = 1e-6,dnn_reg_l2 = 0.0)\n",
        "model.summary()"
      ],
      "metadata": {
        "id": "9gy-mNHKvBHx"
      },
      "execution_count": null,
      "outputs": []
    },
    {
      "cell_type": "code",
      "source": [
        "len(model.layers)"
      ],
      "metadata": {
        "colab": {
          "base_uri": "https://localhost:8080/"
        },
        "id": "-d43woLTvqmQ",
        "outputId": "0692c093-3f4f-429d-ed0a-c68505f1d86d"
      },
      "execution_count": 87,
      "outputs": [
        {
          "output_type": "execute_result",
          "data": {
            "text/plain": [
              "62"
            ]
          },
          "metadata": {},
          "execution_count": 87
        }
      ]
    },
    {
      "cell_type": "code",
      "source": [
        "from tensorflow.keras.utils import plot_model\n",
        "plot_model(model)"
      ],
      "metadata": {
        "id": "3bYgkIeavCeq"
      },
      "execution_count": null,
      "outputs": []
    },
    {
      "cell_type": "code",
      "source": [
        "model.output"
      ],
      "metadata": {
        "colab": {
          "base_uri": "https://localhost:8080/"
        },
        "id": "AIpayzSbvKvE",
        "outputId": "50d414fa-771c-4cf5-aedc-c6a3a96e5923"
      },
      "execution_count": 89,
      "outputs": [
        {
          "output_type": "execute_result",
          "data": {
            "text/plain": [
              "<KerasTensor: shape=(None, 1) dtype=float32 (created by layer 'activation_5')>"
            ]
          },
          "metadata": {},
          "execution_count": 89
        }
      ]
    },
    {
      "cell_type": "code",
      "source": [
        "train_labels"
      ],
      "metadata": {
        "colab": {
          "base_uri": "https://localhost:8080/"
        },
        "id": "rALV7dnavMNk",
        "outputId": "7e722bae-2b0c-4a20-d8c8-df54249fc134"
      },
      "execution_count": 90,
      "outputs": [
        {
          "output_type": "execute_result",
          "data": {
            "text/plain": [
              "array([1., 0., 0., ..., 0., 0., 0.])"
            ]
          },
          "metadata": {},
          "execution_count": 90
        }
      ]
    },
    {
      "cell_type": "code",
      "source": [
        "model.layers.pop()"
      ],
      "metadata": {
        "colab": {
          "base_uri": "https://localhost:8080/"
        },
        "id": "6HUhvrTBvP3z",
        "outputId": "94a781e1-c21c-4d72-bc2e-646095eab975"
      },
      "execution_count": 91,
      "outputs": [
        {
          "output_type": "execute_result",
          "data": {
            "text/plain": [
              "<keras.layers.core.activation.Activation at 0x7f79a816edd0>"
            ]
          },
          "metadata": {},
          "execution_count": 91
        }
      ]
    },
    {
      "cell_type": "code",
      "source": [
        "#len(model._layers)"
      ],
      "metadata": {
        "id": "wfAkK6p9vt8Z"
      },
      "execution_count": 93,
      "outputs": []
    },
    {
      "cell_type": "code",
      "source": [
        "del model.layers[-1]"
      ],
      "metadata": {
        "id": "avGiKinbv6UP"
      },
      "execution_count": 94,
      "outputs": []
    },
    {
      "cell_type": "code",
      "source": [
        "#model.get_output_at(3)"
      ],
      "metadata": {
        "id": "3S5jXkw6w3Vu"
      },
      "execution_count": null,
      "outputs": []
    },
    {
      "cell_type": "code",
      "source": [
        "dir(model)"
      ],
      "metadata": {
        "id": "W_Zd4nUJwD6D"
      },
      "execution_count": null,
      "outputs": []
    },
    {
      "cell_type": "code",
      "source": [
        "layers = model.layers\n",
        "del layers[-1]\n",
        "model.layers = layers"
      ],
      "metadata": {
        "id": "9qapoQpOwCCK"
      },
      "execution_count": null,
      "outputs": []
    },
    {
      "cell_type": "markdown",
      "source": [
        "# 单任务结构"
      ],
      "metadata": {
        "id": "ct8P7gyuxP4r"
      }
    },
    {
      "cell_type": "code",
      "source": [
        "model = build_FM(sparse_features,dense_features,sparse_max_len,embed_dim = 16, \n",
        "            dnn_hidden_units=(64,64),varlens_cols = varlen_features,varlens_max_len = varlens_max_len,\n",
        "            dropout = 0.1,embedding_reg_l2 = 1e-6,dnn_reg_l2 = 0.0)"
      ],
      "metadata": {
        "id": "HMb0gnXT0Uia"
      },
      "execution_count": 27,
      "outputs": []
    },
    {
      "cell_type": "code",
      "source": [
        "adam = optimizers.Adam(learning_rate=0.02, beta_1=0.9, beta_2=0.999, epsilon=None, decay=0.0, amsgrad=False)\n",
        "model.compile(adam, loss = 'binary_crossentropy' ,metrics = [tf.keras.metrics.AUC()],)"
      ],
      "metadata": {
        "id": "RGInc-bQ0rF7"
      },
      "execution_count": 28,
      "outputs": []
    },
    {
      "cell_type": "code",
      "source": [
        "from tensorflow.keras.callbacks import *\n",
        "lr = ReduceLROnPlateau(monitor=\"val_auc_5\", factor=0.75, \n",
        "                        patience=10, verbose=0)\n",
        "\n",
        "es = EarlyStopping(monitor=\"val_auc_5\", patience=15, \n",
        "                    verbose=2, mode=\"max\", \n",
        "                    restore_best_weights=True)\n",
        "\n",
        "history = model.fit(train_model_input, train['read_comment'].values,validation_data = (val_model_input,val['read_comment'].values),\n",
        "                    batch_size=10240, epochs=200, verbose=1,callbacks=[lr,es])"
      ],
      "metadata": {
        "id": "ig55kJQFvAk9"
      },
      "execution_count": null,
      "outputs": []
    },
    {
      "cell_type": "markdown",
      "source": [
        "    19033/19033 [==============================] - 78s 4ms/step - loss: 0.1024 - auc_5: 0.9258\n",
        "    [0.1023578941822052, 0.925841212272644]"
      ],
      "metadata": {
        "id": "RDY9MoZMIgmi"
      }
    },
    {
      "cell_type": "markdown",
      "source": [
        "# 多任务结构设定(SB版)"
      ],
      "metadata": {
        "id": "q_NVJJf0xT2z"
      }
    },
    {
      "cell_type": "markdown",
      "source": [
        "多使用tensorflow的字典行为"
      ],
      "metadata": {
        "id": "NQmj0pO3xVl7"
      }
    },
    {
      "cell_type": "code",
      "source": [
        "deepfmcopy = tf.keras.models.clone_model(model) ##只clone结构不clone weights\n",
        "deepfmcopy.set_weights(model.get_weights()) \n",
        "deepfmcopy.compile(adam, loss = 'binary_crossentropy' ,metrics = [tf.keras.metrics.AUC()],)"
      ],
      "metadata": {
        "id": "E1HGVYQC3QD2"
      },
      "execution_count": 203,
      "outputs": []
    },
    {
      "cell_type": "code",
      "source": [
        "model.evaluate(val_model_input,val_labels)"
      ],
      "metadata": {
        "colab": {
          "base_uri": "https://localhost:8080/"
        },
        "id": "FGkXeAHy4k9R",
        "outputId": "6e1abaae-eb48-40a5-c2b6-cb6d9d13b64c"
      },
      "execution_count": 116,
      "outputs": [
        {
          "output_type": "stream",
          "name": "stdout",
          "text": [
            "19033/19033 [==============================] - 78s 4ms/step - loss: 0.1024 - auc_5: 0.9258\n"
          ]
        },
        {
          "output_type": "execute_result",
          "data": {
            "text/plain": [
              "[0.1023578941822052, 0.925841212272644]"
            ]
          },
          "metadata": {},
          "execution_count": 116
        }
      ]
    },
    {
      "cell_type": "code",
      "source": [
        "deepfmcopy.evaluate(val_model_input,val_labels)"
      ],
      "metadata": {
        "colab": {
          "base_uri": "https://localhost:8080/"
        },
        "id": "uCwc9saY4wqn",
        "outputId": "047433de-a4fa-4198-abc3-846e590974b0"
      },
      "execution_count": 117,
      "outputs": [
        {
          "output_type": "stream",
          "name": "stdout",
          "text": [
            "19033/19033 [==============================] - 77s 4ms/step - loss: 0.1024 - auc_7: 0.9258\n"
          ]
        },
        {
          "output_type": "execute_result",
          "data": {
            "text/plain": [
              "[0.1023578941822052, 0.925841212272644]"
            ]
          },
          "metadata": {},
          "execution_count": 117
        }
      ]
    },
    {
      "cell_type": "code",
      "source": [
        "model.evaluate(val_model_input,val_labels)"
      ],
      "metadata": {
        "colab": {
          "base_uri": "https://localhost:8080/"
        },
        "id": "Lh0Gemyk5sVI",
        "outputId": "a8db4d9b-9519-4680-8f17-0cf77b415b59"
      },
      "execution_count": 204,
      "outputs": [
        {
          "output_type": "stream",
          "name": "stdout",
          "text": [
            "19033/19033 [==============================] - 98s 5ms/step - loss: 0.1024 - auc_5: 0.9258\n"
          ]
        },
        {
          "output_type": "execute_result",
          "data": {
            "text/plain": [
              "[0.1023578941822052, 0.925841212272644]"
            ]
          },
          "metadata": {},
          "execution_count": 204
        }
      ]
    },
    {
      "cell_type": "code",
      "source": [
        "model.output"
      ],
      "metadata": {
        "colab": {
          "base_uri": "https://localhost:8080/"
        },
        "id": "jMIOMW-xPfGU",
        "outputId": "b065a7f5-fe56-452a-a7a7-4f9d950459cb"
      },
      "execution_count": 205,
      "outputs": [
        {
          "output_type": "execute_result",
          "data": {
            "text/plain": [
              "<KerasTensor: shape=(None, 1) dtype=float32 (created by layer 'activation_8')>"
            ]
          },
          "metadata": {},
          "execution_count": 205
        }
      ]
    },
    {
      "cell_type": "markdown",
      "source": [
        "    deepfmcopy.get_layer('dense_33').output\n",
        "    deepfmcopy.get_layer('base_model_output_dnn').output\n",
        "    concates = tf.keras.layers.Concatenate([deepfmcopy.get_layer('dense_33').output,deepfmcopy.get_layer('base_model_output_dnn').output])"
      ],
      "metadata": {
        "id": "VNUXkJD6P1QQ"
      }
    },
    {
      "cell_type": "markdown",
      "source": [
        "# 错误代码"
      ],
      "metadata": {
        "id": "CiQZpV2I2bn6"
      }
    },
    {
      "cell_type": "code",
      "source": [
        "class MeanPoolLayer(Layer):\n",
        "    def __init__(self, axis, **kwargs):\n",
        "        super(MeanPoolLayer, self).__init__(**kwargs)\n",
        "        self.axis = axis\n",
        "\n",
        "    def call(self, x, mask):\n",
        "        mask = tf.expand_dims(tf.cast(mask,tf.float32),axis = -1)\n",
        "        x = x * mask\n",
        "        return K.sum(x, axis=self.axis) / (K.sum(mask, axis=self.axis) + 1e-9)\n",
        "\n",
        "class MmoeLayer(tf.keras.layers.Layer):\n",
        "    def __init__(self,n_expert,n_task,expert_dim):\n",
        "        super(MmoeLayer, self).__init__()\n",
        "        self.n_task = n_task\n",
        "        self.expert_layer = [Dense(expert_dim,activation = 'relu') for i in range(n_expert)] ## 核心应该是改这里啊。。改expert的结构才有意义啊\n",
        "\n",
        "        self.gate_layers = [Dense(n_expert,activation = 'softmax') for i in range(n_task)] # mmoe的结构，n个task对应n个gate\n",
        "    \n",
        "    def call(self,x):\n",
        "        #多个专家网络\n",
        "        E_net = [expert(x) for expert in self.expert_layer]\n",
        "        E_net = Concatenate(axis = 1)([e[:,tf.newaxis,:] for e in E_net]) #(bs,n_expert,n_dims)\n",
        "        #多个门网络\n",
        "        gate_net = [gate(x) for gate in self.gate_layers]     #n_task个(bs,n_expert)\n",
        "        \n",
        "        #每个towers等于，对应的门网络乘上所有的专家网络。\n",
        "        towers = []\n",
        "        for i in range(self.n_task):\n",
        "            g = tf.expand_dims(gate_net[i],axis = -1)  #(bs,n_expert,1)\n",
        "            _tower = tf.matmul(E_net, g,transpose_a=True)\n",
        "            towers.append(Flatten()(_tower))           #(bs,expert_dim)\n",
        "            \n",
        "        return towers ## 这里返回的towers可以进一步接其它layer\n"
      ],
      "metadata": {
        "id": "0GdVb0GN2dhP"
      },
      "execution_count": 7,
      "outputs": []
    },
    {
      "cell_type": "code",
      "source": [
        "target = [\"read_comment\", \"like\", \"click_avatar\", \"forward\"]\n",
        "\n",
        "train_labels = [train[y].values for y in target]\n",
        "val_labels = [val[y].values for y in target]"
      ],
      "metadata": {
        "id": "e1uxWxMkIPkV"
      },
      "execution_count": 8,
      "outputs": []
    },
    {
      "cell_type": "markdown",
      "source": [
        "使用单任务train好的结构在多任务上fine tune 貌似效果不是很好"
      ],
      "metadata": {
        "id": "naXXqeWWYzCK"
      }
    },
    {
      "cell_type": "code",
      "source": [
        "model = build_FM(sparse_features,dense_features,sparse_max_len,embed_dim = 16, \n",
        "            dnn_hidden_units=(64,64),varlens_cols = varlen_features,varlens_max_len = varlens_max_len,\n",
        "            dropout = 0.1,embedding_reg_l2 = 1e-6,dnn_reg_l2 = 0.0)"
      ],
      "metadata": {
        "id": "dx10qlu-YVfW"
      },
      "execution_count": 9,
      "outputs": []
    },
    {
      "cell_type": "code",
      "source": [
        "deepfmcopy = tf.keras.models.clone_model(model) ##只clone结构不clone weights\n",
        "deepfmcopy.set_weights(model.get_weights()) \n",
        "#deepfmcopy.compile(adam, loss = 'binary_crossentropy' ,metrics = [tf.keras.metrics.AUC()],)"
      ],
      "metadata": {
        "id": "YTYb8h1qY31E"
      },
      "execution_count": 10,
      "outputs": []
    },
    {
      "cell_type": "code",
      "source": [
        "deepfmcopy.summary()"
      ],
      "metadata": {
        "id": "xeorEUJFf8pf"
      },
      "execution_count": null,
      "outputs": []
    },
    {
      "cell_type": "code",
      "source": [
        "from tensorflow.keras.optimizers import Adam \n",
        "adam = Adam(learning_rate=0.02, beta_1=0.9, beta_2=0.999, epsilon=None, decay=0.0, amsgrad=False)\n"
      ],
      "metadata": {
        "id": "zzdgvfFXgNBj"
      },
      "execution_count": 17,
      "outputs": []
    },
    {
      "cell_type": "code",
      "source": [
        "Inputs = deepfmcopy.input ## \n",
        "\n",
        "deepfm_layer_output = tf.keras.layers.Concatenate()([deepfmcopy.get_layer('dense_2').output,deepfmcopy.get_layer('base_model_output_dnn').output])\n",
        "#mmoe网络层\n",
        "towers = MmoeLayer(expert_dim=256,n_expert=8,n_task=4)(deepfm_layer_output) ## input embedd这个部分用mmoe就可以了\n",
        "outputs = [Dense(1,activation='sigmoid')(output) for output in towers]\n",
        "deepfm_mmoe = Model(Inputs,outputs)\n",
        "\n",
        "deepfm_mmoe.compile(adam, loss = 'binary_crossentropy' ,metrics = [tf.keras.metrics.AUC()],) ## 这种本身就有复制结构和weights的效果\n"
      ],
      "metadata": {
        "id": "bUDU5kKMGsyb"
      },
      "execution_count": 18,
      "outputs": []
    },
    {
      "cell_type": "code",
      "source": [
        "deepfm_mmoe.summary()"
      ],
      "metadata": {
        "id": "TAMUa-mMgdjK"
      },
      "execution_count": null,
      "outputs": []
    },
    {
      "cell_type": "code",
      "source": [
        "from tensorflow.keras.callbacks import *\n",
        "lr = ReduceLROnPlateau(monitor=\"val_dense_16_auc_1\", factor=0.75, \n",
        "                        patience=10, verbose=0)\n",
        "\n",
        "es = EarlyStopping(monitor=\"val_dense_16_auc_1\", patience=30, \n",
        "                    verbose=2, mode=\"max\", \n",
        "                    restore_best_weights=True)\n",
        "\n",
        "history = deepfm_mmoe.fit(train_model_input, train_labels,validation_data = (val_model_input,val_labels),\n",
        "                    batch_size=10240, epochs=200, verbose=1,callbacks=[lr,es])"
      ],
      "metadata": {
        "id": "z_zBARIqIu3n"
      },
      "execution_count": null,
      "outputs": []
    },
    {
      "cell_type": "code",
      "source": [
        "deepfm_mmoe.evaluate(val_model_input,val_labels)"
      ],
      "metadata": {
        "colab": {
          "base_uri": "https://localhost:8080/"
        },
        "id": "ItLezx-SPSjU",
        "outputId": "c82a8834-1603-4ba2-835f-5718db83b292"
      },
      "execution_count": 21,
      "outputs": [
        {
          "output_type": "stream",
          "name": "stdout",
          "text": [
            "19033/19033 [==============================] - 139s 7ms/step - loss: 0.2494 - dense_16_loss: 0.0923 - dense_17_loss: 0.0890 - dense_18_loss: 0.0364 - dense_19_loss: 0.0183 - dense_16_auc_1: 0.9256 - dense_17_auc_1: 0.8342 - dense_18_auc_1: 0.8172 - dense_19_auc_1: 0.8260\n"
          ]
        },
        {
          "output_type": "execute_result",
          "data": {
            "text/plain": [
              "[0.24936777353286743,\n",
              " 0.09227626025676727,\n",
              " 0.088957279920578,\n",
              " 0.03638340160250664,\n",
              " 0.018305817618966103,\n",
              " 0.9256324768066406,\n",
              " 0.8342156410217285,\n",
              " 0.8172459602355957,\n",
              " 0.8260396718978882]"
            ]
          },
          "metadata": {},
          "execution_count": 21
        }
      ]
    },
    {
      "cell_type": "code",
      "source": [
        "deepfmcopy.evaluate(val_model_input,val_labels)"
      ],
      "metadata": {
        "id": "CYdVXmi7HFHt"
      },
      "execution_count": null,
      "outputs": []
    },
    {
      "cell_type": "code",
      "source": [
        "deepfmcopy.output"
      ],
      "metadata": {
        "colab": {
          "base_uri": "https://localhost:8080/"
        },
        "id": "vcdgDrQ0W_b2",
        "outputId": "fdd09233-9208-4756-f565-fa6cd17915e5"
      },
      "execution_count": 221,
      "outputs": [
        {
          "output_type": "execute_result",
          "data": {
            "text/plain": [
              "<KerasTensor: shape=(None, 1) dtype=float32 (created by layer 'activation_8')>"
            ]
          },
          "metadata": {},
          "execution_count": 221
        }
      ]
    },
    {
      "cell_type": "code",
      "source": [
        "deepfm_mmoe.output"
      ],
      "metadata": {
        "colab": {
          "base_uri": "https://localhost:8080/"
        },
        "id": "siqVB9-eW9Tl",
        "outputId": "eadfb239-052f-43a0-ea32-b84375462495"
      },
      "execution_count": 219,
      "outputs": [
        {
          "output_type": "execute_result",
          "data": {
            "text/plain": [
              "[<KerasTensor: shape=(None, 1) dtype=float32 (created by layer 'dense_256')>,\n",
              " <KerasTensor: shape=(None, 1) dtype=float32 (created by layer 'dense_257')>,\n",
              " <KerasTensor: shape=(None, 1) dtype=float32 (created by layer 'dense_258')>,\n",
              " <KerasTensor: shape=(None, 1) dtype=float32 (created by layer 'dense_259')>]"
            ]
          },
          "metadata": {},
          "execution_count": 219
        }
      ]
    },
    {
      "cell_type": "code",
      "source": [
        "deepfm_mmoe.weights[0]"
      ],
      "metadata": {
        "colab": {
          "base_uri": "https://localhost:8080/"
        },
        "id": "bWOAlJNrNiec",
        "outputId": "29197093-9200-4e88-d5be-59e9dcd774b0"
      },
      "execution_count": 218,
      "outputs": [
        {
          "output_type": "execute_result",
          "data": {
            "text/plain": [
              "<tf.Variable 'embedding_61/embeddings:0' shape=(350, 16) dtype=float32, numpy=\n",
              "array([[ 1.6327219e-31, -2.1161597e-31,  3.1145781e-33, ...,\n",
              "         1.4693598e-31, -1.5728962e-31,  9.1310638e-32],\n",
              "       [-1.5325925e-03, -1.7420399e-01, -1.9339371e-02, ...,\n",
              "         1.1611331e-01,  1.7026336e-01,  4.2245224e-02],\n",
              "       [-1.4212283e-01, -9.1626585e-02, -5.4865982e-02, ...,\n",
              "         3.4505045e-01,  3.6639619e-01,  2.9734237e-02],\n",
              "       ...,\n",
              "       [-9.1455524e-07, -9.8016208e-06, -2.8080400e-05, ...,\n",
              "         3.9035240e-06, -7.0932820e-06, -8.3940240e-06],\n",
              "       [-5.4890079e-06,  3.5571105e-05,  5.8569354e-03, ...,\n",
              "        -6.5455515e-06,  2.4107765e-05, -1.2782648e-03],\n",
              "       [ 1.2475632e-31,  5.1268857e-32, -9.5355961e-32, ...,\n",
              "         7.6548192e-35,  9.5778880e-32, -1.0207183e-31]], dtype=float32)>"
            ]
          },
          "metadata": {},
          "execution_count": 218
        }
      ]
    },
    {
      "cell_type": "code",
      "source": [
        "deepfm_mmoe.evaluate(val_model_input,val_labels)"
      ],
      "metadata": {
        "id": "tcaUP7srNL_b"
      },
      "execution_count": null,
      "outputs": []
    },
    {
      "cell_type": "code",
      "source": [
        "preds"
      ],
      "metadata": {
        "colab": {
          "base_uri": "https://localhost:8080/"
        },
        "id": "VKSO2SK1NMB7",
        "outputId": "9b141853-1ff3-4ff3-e742-272e8d1d39b0"
      },
      "execution_count": 191,
      "outputs": [
        {
          "output_type": "execute_result",
          "data": {
            "text/plain": [
              "array([[0.15593019],\n",
              "       [0.0761647 ],\n",
              "       [0.12393709],\n",
              "       ...,\n",
              "       [0.0924482 ],\n",
              "       [0.0803355 ],\n",
              "       [0.1180457 ]], dtype=float32)"
            ]
          },
          "metadata": {},
          "execution_count": 191
        }
      ]
    },
    {
      "cell_type": "markdown",
      "source": [
        "# 纯mmoe，没有backbone(expert的数量不是越多越好)"
      ],
      "metadata": {
        "id": "plgB9IdywXhp"
      }
    },
    {
      "cell_type": "code",
      "source": [
        "def build_mmoe(sparse_cols,dense_cols,sparse_max_len,embed_dim,expert_dim,\n",
        "              varlens_cols,varlens_max_len,n_expert,n_task,target = [],\n",
        "              dnn_hidden_units = (64,),dnn_reg_l2 = 1e-5,drop_rate = 0.1,\n",
        "                embedding_reg_l2 = 1e-6):\n",
        "    \n",
        "    \n",
        "    #输入部分，分为sparse,varlens,dense部分。\n",
        "    sparse_inputs = {f:Input([1],name = f) for f in sparse_cols}\n",
        "    dense_inputs = {f:Input([1],name = f) for f in dense_cols}\n",
        "    varlens_inputs = {f:Input([None,1],name = f) for f in varlens_cols}\n",
        "        \n",
        "    input_embed = {}\n",
        "    #离散特征，embedding到k维\n",
        "    for f in sparse_cols:\n",
        "        _input = sparse_inputs[f]\n",
        "        embedding = Embedding(sparse_max_len[f], embed_dim, \n",
        "            embeddings_regularizer=tf.keras.regularizers.l2(embedding_reg_l2)) \n",
        "        input_embed[f] =Flatten()(embedding(_input)) #(bs,k)\n",
        "        \n",
        "    #多标签离散变量\n",
        "    for f in varlens_inputs:\n",
        "        _input = varlens_inputs[f]\n",
        "        mask = Masking(mask_value = 0).compute_mask(_input)\n",
        "        embedding = Embedding(varlens_max_len[f], embed_dim,\n",
        "            embeddings_regularizer=tf.keras.regularizers.l2(1e-6))\n",
        "        _embed =Reshape([-1,embed_dim])(embedding(_input))\n",
        "        out_embed = MeanPoolLayer(axis=1)(_embed,mask)\n",
        "        input_embed[f] = out_embed\n",
        "        \n",
        "    input_embed.update(dense_inputs) #加入连续变量\n",
        "    input_embed = Concatenate(axis = -1)([input_embed[f] for f in input_embed])\n",
        "\n",
        "    ####################################################################################################### 应该修改的backbone在这个地方\n",
        "    for num in dnn_hidden_units:\n",
        "        input_embed = Dropout(drop_rate)(Dense(num,activation = 'relu',\n",
        "                    kernel_regularizer=regularizers.l2(dnn_reg_l2))(input_embed))\n",
        "    ########################################################################################################    \n",
        "        ## 前面就是很简单的ffn的backbone\n",
        "    \n",
        "    #mmoe网络层\n",
        "    towers = MmoeLayer(expert_dim,n_expert,n_task)(input_embed) ## input embedd这个部分用mmoe就可以了\n",
        "    ## 是直接用mmoe的layer代替了deepfm的layer来做的，wtf\n",
        "\n",
        "    outputs = [Dense(1,activation = 'sigmoid', kernel_regularizer=regularizers.l2(dnn_reg_l2),\n",
        "                     name = f,use_bias = True)(_t) for _t,f in zip(towers,target)]\n",
        "    inputs = [sparse_inputs[f] for f in sparse_inputs]+[varlens_inputs[f] for f in varlens_inputs]\\\n",
        "                +[dense_inputs[f] for f in dense_inputs]\n",
        "    model = Model(inputs,outputs) \n",
        "    return model"
      ],
      "metadata": {
        "id": "2eS3fjvLwbja"
      },
      "execution_count": 57,
      "outputs": []
    },
    {
      "cell_type": "code",
      "source": [
        "class MeanPoolLayer(Layer):\n",
        "    def __init__(self, axis, **kwargs):\n",
        "        super(MeanPoolLayer, self).__init__(**kwargs)\n",
        "        self.axis = axis\n",
        "\n",
        "    def call(self, x, mask):\n",
        "        mask = tf.expand_dims(tf.cast(mask,tf.float32),axis = -1)\n",
        "        x = x * mask\n",
        "        return K.sum(x, axis=self.axis) / (K.sum(mask, axis=self.axis) + 1e-9)\n",
        "\n",
        "class MmoeLayer(tf.keras.layers.Layer):\n",
        "    def __init__(self,n_expert,n_task,expert_dim):\n",
        "        super(MmoeLayer, self).__init__()\n",
        "        self.n_task = n_task\n",
        "        self.expert_layer = [Dense(expert_dim,activation = 'relu') for i in range(n_expert)] ## 核心应该是改这里啊。。改expert的结构才有意义啊\n",
        "\n",
        "        self.gate_layers = [Dense(n_expert,activation = 'softmax') for i in range(n_task)] # mmoe的结构，n个task对应n个gate\n",
        "    \n",
        "    def call(self,x):\n",
        "        #多个专家网络\n",
        "        E_net = [expert(x) for expert in self.expert_layer]\n",
        "        E_net = Concatenate(axis = 1)([e[:,tf.newaxis,:] for e in E_net]) #(bs,n_expert,n_dims)\n",
        "        #多个门网络\n",
        "        gate_net = [gate(x) for gate in self.gate_layers]     #n_task个(bs,n_expert)\n",
        "        \n",
        "        #每个towers等于，对应的门网络乘上所有的专家网络。\n",
        "        towers = []\n",
        "        for i in range(self.n_task):\n",
        "            g = tf.expand_dims(gate_net[i],axis = -1)  #(bs,n_expert,1)\n",
        "            _tower = tf.matmul(E_net, g,transpose_a=True)\n",
        "            towers.append(Flatten()(_tower))           #(bs,expert_dim)\n",
        "            \n",
        "        return towers ## 这里返回的towers可以进一步接其它layer\n"
      ],
      "metadata": {
        "id": "HHv2i313wbmQ"
      },
      "execution_count": 58,
      "outputs": []
    },
    {
      "cell_type": "code",
      "source": [
        "from tensorflow.keras.callbacks import *\n",
        "lr = ReduceLROnPlateau(monitor=\"val_read_comment_auc_9\", factor=0.75, \n",
        "                        patience=10, verbose=0)\n",
        "\n",
        "es = EarlyStopping(monitor=\"val_read_comment_auc_9\", patience=30, \n",
        "                    verbose=2, mode=\"max\", \n",
        "                    restore_best_weights=True)"
      ],
      "metadata": {
        "id": "ODnrOC4Y-so3"
      },
      "execution_count": 61,
      "outputs": []
    },
    {
      "cell_type": "code",
      "source": [
        "# 构建模型，训练和评估\n",
        "model = build_mmoe(sparse_features,dense_features,sparse_max_len,embed_dim = 16,expert_dim = 32,\n",
        "          n_task = 4,n_expert = 4,varlens_cols = varlen_features,varlens_max_len = varlens_max_len,\n",
        "          dnn_hidden_units = (64,64),target = target,dnn_reg_l2 = 1e-5,drop_rate = 0.1)\n",
        "\n",
        "\n",
        "adam = optimizers.Adam(learning_rate=0.01, beta_1=0.9, beta_2=0.999, epsilon=None, decay=0.0, amsgrad=False)\n",
        "model.compile(adam, loss = 'binary_crossentropy' ,metrics = [tf.keras.metrics.AUC()],)\n",
        "\n",
        "history = model.fit(train_model_input, train_labels,validation_data = (val_model_input,val_labels),\n",
        "                    batch_size=10240, epochs=100, verbose=1,callbacks=[lr,es])"
      ],
      "metadata": {
        "colab": {
          "base_uri": "https://localhost:8080/"
        },
        "id": "oqXI75BZ25dQ",
        "outputId": "f09aeb42-f276-4a28-d333-f66f95bee5f6"
      },
      "execution_count": 62,
      "outputs": [
        {
          "output_type": "stream",
          "name": "stdout",
          "text": [
            "Epoch 1/100\n",
            "656/656 [==============================] - 20s 21ms/step - loss: 0.3100 - read_comment_loss: 0.1113 - like_loss: 0.1062 - click_avatar_loss: 0.0496 - forward_loss: 0.0301 - read_comment_auc_9: 0.8951 - like_auc_9: 0.7961 - click_avatar_auc_9: 0.7244 - forward_auc_9: 0.6893 - val_loss: 0.2569 - val_read_comment_loss: 0.0944 - val_like_loss: 0.0909 - val_click_avatar_loss: 0.0372 - val_forward_loss: 0.0195 - val_read_comment_auc_9: 0.9172 - val_like_auc_9: 0.8249 - val_click_avatar_auc_9: 0.8030 - val_forward_auc_9: 0.7732 - lr: 0.0100\n",
            "Epoch 2/100\n",
            "656/656 [==============================] - 13s 19ms/step - loss: 0.2547 - read_comment_loss: 0.0914 - like_loss: 0.0906 - click_avatar_loss: 0.0361 - forward_loss: 0.0205 - read_comment_auc_9: 0.9324 - like_auc_9: 0.8548 - click_avatar_auc_9: 0.8322 - forward_auc_9: 0.8189 - val_loss: 0.2550 - val_read_comment_loss: 0.0936 - val_like_loss: 0.0904 - val_click_avatar_loss: 0.0367 - val_forward_loss: 0.0189 - val_read_comment_auc_9: 0.9212 - val_like_auc_9: 0.8295 - val_click_avatar_auc_9: 0.8097 - val_forward_auc_9: 0.8018 - lr: 0.0100\n",
            "Epoch 3/100\n",
            "656/656 [==============================] - 14s 21ms/step - loss: 0.2513 - read_comment_loss: 0.0899 - like_loss: 0.0894 - click_avatar_loss: 0.0353 - forward_loss: 0.0197 - read_comment_auc_9: 0.9357 - like_auc_9: 0.8621 - click_avatar_auc_9: 0.8449 - forward_auc_9: 0.8480 - val_loss: 0.2540 - val_read_comment_loss: 0.0929 - val_like_loss: 0.0895 - val_click_avatar_loss: 0.0363 - val_forward_loss: 0.0187 - val_read_comment_auc_9: 0.9223 - val_like_auc_9: 0.8337 - val_click_avatar_auc_9: 0.8151 - val_forward_auc_9: 0.8235 - lr: 0.0100\n",
            "Epoch 4/100\n",
            "656/656 [==============================] - 14s 21ms/step - loss: 0.2500 - read_comment_loss: 0.0892 - like_loss: 0.0886 - click_avatar_loss: 0.0348 - forward_loss: 0.0194 - read_comment_auc_9: 0.9373 - like_auc_9: 0.8661 - click_avatar_auc_9: 0.8532 - forward_auc_9: 0.8564 - val_loss: 0.2541 - val_read_comment_loss: 0.0926 - val_like_loss: 0.0896 - val_click_avatar_loss: 0.0362 - val_forward_loss: 0.0184 - val_read_comment_auc_9: 0.9232 - val_like_auc_9: 0.8344 - val_click_avatar_auc_9: 0.8342 - val_forward_auc_9: 0.8035 - lr: 0.0100\n",
            "Epoch 5/100\n",
            "656/656 [==============================] - 13s 20ms/step - loss: 0.2496 - read_comment_loss: 0.0888 - like_loss: 0.0882 - click_avatar_loss: 0.0346 - forward_loss: 0.0192 - read_comment_auc_9: 0.9384 - like_auc_9: 0.8684 - click_avatar_auc_9: 0.8550 - forward_auc_9: 0.8622 - val_loss: 0.2541 - val_read_comment_loss: 0.0927 - val_like_loss: 0.0893 - val_click_avatar_loss: 0.0361 - val_forward_loss: 0.0184 - val_read_comment_auc_9: 0.9255 - val_like_auc_9: 0.8352 - val_click_avatar_auc_9: 0.8282 - val_forward_auc_9: 0.8144 - lr: 0.0100\n",
            "Epoch 6/100\n",
            "656/656 [==============================] - 13s 20ms/step - loss: 0.2492 - read_comment_loss: 0.0885 - like_loss: 0.0880 - click_avatar_loss: 0.0345 - forward_loss: 0.0190 - read_comment_auc_9: 0.9391 - like_auc_9: 0.8693 - click_avatar_auc_9: 0.8577 - forward_auc_9: 0.8660 - val_loss: 0.2543 - val_read_comment_loss: 0.0925 - val_like_loss: 0.0890 - val_click_avatar_loss: 0.0362 - val_forward_loss: 0.0186 - val_read_comment_auc_9: 0.9232 - val_like_auc_9: 0.8360 - val_click_avatar_auc_9: 0.8156 - val_forward_auc_9: 0.8254 - lr: 0.0100\n",
            "Epoch 7/100\n",
            "656/656 [==============================] - 13s 20ms/step - loss: 0.2489 - read_comment_loss: 0.0883 - like_loss: 0.0879 - click_avatar_loss: 0.0344 - forward_loss: 0.0190 - read_comment_auc_9: 0.9395 - like_auc_9: 0.8701 - click_avatar_auc_9: 0.8584 - forward_auc_9: 0.8662 - val_loss: 0.2538 - val_read_comment_loss: 0.0924 - val_like_loss: 0.0892 - val_click_avatar_loss: 0.0359 - val_forward_loss: 0.0184 - val_read_comment_auc_9: 0.9246 - val_like_auc_9: 0.8359 - val_click_avatar_auc_9: 0.8279 - val_forward_auc_9: 0.7847 - lr: 0.0100\n",
            "Epoch 8/100\n",
            "656/656 [==============================] - 13s 20ms/step - loss: 0.2486 - read_comment_loss: 0.0881 - like_loss: 0.0877 - click_avatar_loss: 0.0343 - forward_loss: 0.0190 - read_comment_auc_9: 0.9400 - like_auc_9: 0.8710 - click_avatar_auc_9: 0.8605 - forward_auc_9: 0.8684 - val_loss: 0.2538 - val_read_comment_loss: 0.0921 - val_like_loss: 0.0891 - val_click_avatar_loss: 0.0361 - val_forward_loss: 0.0185 - val_read_comment_auc_9: 0.9243 - val_like_auc_9: 0.8364 - val_click_avatar_auc_9: 0.8236 - val_forward_auc_9: 0.8370 - lr: 0.0100\n",
            "Epoch 9/100\n",
            "656/656 [==============================] - 13s 19ms/step - loss: 0.2482 - read_comment_loss: 0.0880 - like_loss: 0.0876 - click_avatar_loss: 0.0342 - forward_loss: 0.0189 - read_comment_auc_9: 0.9403 - like_auc_9: 0.8714 - click_avatar_auc_9: 0.8619 - forward_auc_9: 0.8715 - val_loss: 0.2536 - val_read_comment_loss: 0.0923 - val_like_loss: 0.0891 - val_click_avatar_loss: 0.0359 - val_forward_loss: 0.0182 - val_read_comment_auc_9: 0.9231 - val_like_auc_9: 0.8353 - val_click_avatar_auc_9: 0.8316 - val_forward_auc_9: 0.8138 - lr: 0.0100\n",
            "Epoch 10/100\n",
            "656/656 [==============================] - 13s 20ms/step - loss: 0.2482 - read_comment_loss: 0.0879 - like_loss: 0.0876 - click_avatar_loss: 0.0342 - forward_loss: 0.0188 - read_comment_auc_9: 0.9404 - like_auc_9: 0.8716 - click_avatar_auc_9: 0.8620 - forward_auc_9: 0.8732 - val_loss: 0.2536 - val_read_comment_loss: 0.0922 - val_like_loss: 0.0889 - val_click_avatar_loss: 0.0361 - val_forward_loss: 0.0184 - val_read_comment_auc_9: 0.9254 - val_like_auc_9: 0.8366 - val_click_avatar_auc_9: 0.8329 - val_forward_auc_9: 0.7914 - lr: 0.0100\n",
            "Epoch 11/100\n",
            "656/656 [==============================] - 13s 20ms/step - loss: 0.2478 - read_comment_loss: 0.0878 - like_loss: 0.0875 - click_avatar_loss: 0.0341 - forward_loss: 0.0188 - read_comment_auc_9: 0.9410 - like_auc_9: 0.8721 - click_avatar_auc_9: 0.8621 - forward_auc_9: 0.8734 - val_loss: 0.2547 - val_read_comment_loss: 0.0928 - val_like_loss: 0.0891 - val_click_avatar_loss: 0.0364 - val_forward_loss: 0.0183 - val_read_comment_auc_9: 0.9255 - val_like_auc_9: 0.8361 - val_click_avatar_auc_9: 0.8388 - val_forward_auc_9: 0.8136 - lr: 0.0100\n",
            "Epoch 12/100\n",
            "656/656 [==============================] - 13s 19ms/step - loss: 0.2425 - read_comment_loss: 0.0867 - like_loss: 0.0865 - click_avatar_loss: 0.0335 - forward_loss: 0.0184 - read_comment_auc_9: 0.9429 - like_auc_9: 0.8769 - click_avatar_auc_9: 0.8715 - forward_auc_9: 0.8830 - val_loss: 0.2508 - val_read_comment_loss: 0.0919 - val_like_loss: 0.0888 - val_click_avatar_loss: 0.0359 - val_forward_loss: 0.0182 - val_read_comment_auc_9: 0.9270 - val_like_auc_9: 0.8372 - val_click_avatar_auc_9: 0.8357 - val_forward_auc_9: 0.8237 - lr: 0.0075\n",
            "Epoch 13/100\n",
            "656/656 [==============================] - 13s 20ms/step - loss: 0.2420 - read_comment_loss: 0.0866 - like_loss: 0.0863 - click_avatar_loss: 0.0334 - forward_loss: 0.0183 - read_comment_auc_9: 0.9433 - like_auc_9: 0.8778 - click_avatar_auc_9: 0.8730 - forward_auc_9: 0.8848 - val_loss: 0.2507 - val_read_comment_loss: 0.0919 - val_like_loss: 0.0884 - val_click_avatar_loss: 0.0360 - val_forward_loss: 0.0183 - val_read_comment_auc_9: 0.9258 - val_like_auc_9: 0.8392 - val_click_avatar_auc_9: 0.8275 - val_forward_auc_9: 0.8002 - lr: 0.0075\n",
            "Epoch 14/100\n",
            "656/656 [==============================] - 12s 19ms/step - loss: 0.2417 - read_comment_loss: 0.0865 - like_loss: 0.0862 - click_avatar_loss: 0.0332 - forward_loss: 0.0182 - read_comment_auc_9: 0.9434 - like_auc_9: 0.8788 - click_avatar_auc_9: 0.8760 - forward_auc_9: 0.8881 - val_loss: 0.2508 - val_read_comment_loss: 0.0917 - val_like_loss: 0.0887 - val_click_avatar_loss: 0.0358 - val_forward_loss: 0.0183 - val_read_comment_auc_9: 0.9268 - val_like_auc_9: 0.8402 - val_click_avatar_auc_9: 0.8269 - val_forward_auc_9: 0.8308 - lr: 0.0075\n",
            "Epoch 15/100\n",
            "656/656 [==============================] - 13s 19ms/step - loss: 0.2412 - read_comment_loss: 0.0864 - like_loss: 0.0861 - click_avatar_loss: 0.0331 - forward_loss: 0.0181 - read_comment_auc_9: 0.9437 - like_auc_9: 0.8794 - click_avatar_auc_9: 0.8777 - forward_auc_9: 0.8902 - val_loss: 0.2522 - val_read_comment_loss: 0.0923 - val_like_loss: 0.0889 - val_click_avatar_loss: 0.0361 - val_forward_loss: 0.0183 - val_read_comment_auc_9: 0.9259 - val_like_auc_9: 0.8368 - val_click_avatar_auc_9: 0.8357 - val_forward_auc_9: 0.8092 - lr: 0.0075\n",
            "Epoch 16/100\n",
            "656/656 [==============================] - 13s 20ms/step - loss: 0.2411 - read_comment_loss: 0.0863 - like_loss: 0.0859 - click_avatar_loss: 0.0330 - forward_loss: 0.0181 - read_comment_auc_9: 0.9438 - like_auc_9: 0.8799 - click_avatar_auc_9: 0.8788 - forward_auc_9: 0.8917 - val_loss: 0.2518 - val_read_comment_loss: 0.0922 - val_like_loss: 0.0889 - val_click_avatar_loss: 0.0359 - val_forward_loss: 0.0183 - val_read_comment_auc_9: 0.9237 - val_like_auc_9: 0.8362 - val_click_avatar_auc_9: 0.8219 - val_forward_auc_9: 0.8245 - lr: 0.0075\n",
            "Epoch 17/100\n",
            "656/656 [==============================] - 13s 20ms/step - loss: 0.2409 - read_comment_loss: 0.0863 - like_loss: 0.0858 - click_avatar_loss: 0.0329 - forward_loss: 0.0180 - read_comment_auc_9: 0.9439 - like_auc_9: 0.8809 - click_avatar_auc_9: 0.8805 - forward_auc_9: 0.8927 - val_loss: 0.2517 - val_read_comment_loss: 0.0918 - val_like_loss: 0.0889 - val_click_avatar_loss: 0.0361 - val_forward_loss: 0.0184 - val_read_comment_auc_9: 0.9265 - val_like_auc_9: 0.8390 - val_click_avatar_auc_9: 0.8254 - val_forward_auc_9: 0.8049 - lr: 0.0075\n",
            "Epoch 18/100\n",
            "656/656 [==============================] - 13s 20ms/step - loss: 0.2407 - read_comment_loss: 0.0862 - like_loss: 0.0857 - click_avatar_loss: 0.0328 - forward_loss: 0.0180 - read_comment_auc_9: 0.9440 - like_auc_9: 0.8812 - click_avatar_auc_9: 0.8822 - forward_auc_9: 0.8925 - val_loss: 0.2518 - val_read_comment_loss: 0.0921 - val_like_loss: 0.0888 - val_click_avatar_loss: 0.0361 - val_forward_loss: 0.0183 - val_read_comment_auc_9: 0.9264 - val_like_auc_9: 0.8394 - val_click_avatar_auc_9: 0.8262 - val_forward_auc_9: 0.8299 - lr: 0.0075\n",
            "Epoch 19/100\n",
            "656/656 [==============================] - 13s 20ms/step - loss: 0.2405 - read_comment_loss: 0.0862 - like_loss: 0.0856 - click_avatar_loss: 0.0327 - forward_loss: 0.0179 - read_comment_auc_9: 0.9440 - like_auc_9: 0.8817 - click_avatar_auc_9: 0.8835 - forward_auc_9: 0.8952 - val_loss: 0.2525 - val_read_comment_loss: 0.0922 - val_like_loss: 0.0888 - val_click_avatar_loss: 0.0362 - val_forward_loss: 0.0185 - val_read_comment_auc_9: 0.9260 - val_like_auc_9: 0.8359 - val_click_avatar_auc_9: 0.8283 - val_forward_auc_9: 0.8134 - lr: 0.0075\n",
            "Epoch 20/100\n",
            "656/656 [==============================] - 13s 20ms/step - loss: 0.2404 - read_comment_loss: 0.0861 - like_loss: 0.0855 - click_avatar_loss: 0.0327 - forward_loss: 0.0179 - read_comment_auc_9: 0.9443 - like_auc_9: 0.8820 - click_avatar_auc_9: 0.8846 - forward_auc_9: 0.8966 - val_loss: 0.2523 - val_read_comment_loss: 0.0923 - val_like_loss: 0.0889 - val_click_avatar_loss: 0.0361 - val_forward_loss: 0.0183 - val_read_comment_auc_9: 0.9253 - val_like_auc_9: 0.8361 - val_click_avatar_auc_9: 0.8235 - val_forward_auc_9: 0.8193 - lr: 0.0075\n",
            "Epoch 21/100\n",
            "656/656 [==============================] - 13s 20ms/step - loss: 0.2402 - read_comment_loss: 0.0860 - like_loss: 0.0855 - click_avatar_loss: 0.0326 - forward_loss: 0.0179 - read_comment_auc_9: 0.9444 - like_auc_9: 0.8827 - click_avatar_auc_9: 0.8851 - forward_auc_9: 0.8966 - val_loss: 0.2529 - val_read_comment_loss: 0.0927 - val_like_loss: 0.0888 - val_click_avatar_loss: 0.0361 - val_forward_loss: 0.0183 - val_read_comment_auc_9: 0.9241 - val_like_auc_9: 0.8376 - val_click_avatar_auc_9: 0.8278 - val_forward_auc_9: 0.8207 - lr: 0.0075\n",
            "Epoch 22/100\n",
            "656/656 [==============================] - 13s 20ms/step - loss: 0.2353 - read_comment_loss: 0.0850 - like_loss: 0.0843 - click_avatar_loss: 0.0319 - forward_loss: 0.0174 - read_comment_auc_9: 0.9462 - like_auc_9: 0.8879 - click_avatar_auc_9: 0.8952 - forward_auc_9: 0.9058 - val_loss: 0.2510 - val_read_comment_loss: 0.0919 - val_like_loss: 0.0887 - val_click_avatar_loss: 0.0363 - val_forward_loss: 0.0183 - val_read_comment_auc_9: 0.9256 - val_like_auc_9: 0.8371 - val_click_avatar_auc_9: 0.8153 - val_forward_auc_9: 0.8097 - lr: 0.0056\n",
            "Epoch 23/100\n",
            "656/656 [==============================] - 13s 20ms/step - loss: 0.2346 - read_comment_loss: 0.0848 - like_loss: 0.0840 - click_avatar_loss: 0.0317 - forward_loss: 0.0173 - read_comment_auc_9: 0.9466 - like_auc_9: 0.8896 - click_avatar_auc_9: 0.8973 - forward_auc_9: 0.9091 - val_loss: 0.2513 - val_read_comment_loss: 0.0921 - val_like_loss: 0.0887 - val_click_avatar_loss: 0.0362 - val_forward_loss: 0.0184 - val_read_comment_auc_9: 0.9270 - val_like_auc_9: 0.8367 - val_click_avatar_auc_9: 0.8191 - val_forward_auc_9: 0.8254 - lr: 0.0056\n",
            "Epoch 24/100\n",
            "656/656 [==============================] - 13s 20ms/step - loss: 0.2342 - read_comment_loss: 0.0848 - like_loss: 0.0838 - click_avatar_loss: 0.0316 - forward_loss: 0.0173 - read_comment_auc_9: 0.9467 - like_auc_9: 0.8909 - click_avatar_auc_9: 0.8985 - forward_auc_9: 0.9102 - val_loss: 0.2523 - val_read_comment_loss: 0.0922 - val_like_loss: 0.0890 - val_click_avatar_loss: 0.0365 - val_forward_loss: 0.0185 - val_read_comment_auc_9: 0.9253 - val_like_auc_9: 0.8344 - val_click_avatar_auc_9: 0.8185 - val_forward_auc_9: 0.8181 - lr: 0.0056\n",
            "Epoch 25/100\n",
            "656/656 [==============================] - 13s 20ms/step - loss: 0.2340 - read_comment_loss: 0.0846 - like_loss: 0.0835 - click_avatar_loss: 0.0314 - forward_loss: 0.0172 - read_comment_auc_9: 0.9469 - like_auc_9: 0.8919 - click_avatar_auc_9: 0.8996 - forward_auc_9: 0.9113 - val_loss: 0.2530 - val_read_comment_loss: 0.0929 - val_like_loss: 0.0889 - val_click_avatar_loss: 0.0364 - val_forward_loss: 0.0186 - val_read_comment_auc_9: 0.9244 - val_like_auc_9: 0.8343 - val_click_avatar_auc_9: 0.8139 - val_forward_auc_9: 0.8158 - lr: 0.0056\n",
            "Epoch 26/100\n",
            "656/656 [==============================] - 13s 20ms/step - loss: 0.2336 - read_comment_loss: 0.0846 - like_loss: 0.0833 - click_avatar_loss: 0.0313 - forward_loss: 0.0171 - read_comment_auc_9: 0.9470 - like_auc_9: 0.8929 - click_avatar_auc_9: 0.9020 - forward_auc_9: 0.9135 - val_loss: 0.2529 - val_read_comment_loss: 0.0923 - val_like_loss: 0.0892 - val_click_avatar_loss: 0.0365 - val_forward_loss: 0.0184 - val_read_comment_auc_9: 0.9261 - val_like_auc_9: 0.8347 - val_click_avatar_auc_9: 0.8162 - val_forward_auc_9: 0.8121 - lr: 0.0056\n",
            "Epoch 27/100\n",
            "656/656 [==============================] - 13s 19ms/step - loss: 0.2334 - read_comment_loss: 0.0844 - like_loss: 0.0831 - click_avatar_loss: 0.0312 - forward_loss: 0.0171 - read_comment_auc_9: 0.9472 - like_auc_9: 0.8942 - click_avatar_auc_9: 0.9028 - forward_auc_9: 0.9122 - val_loss: 0.2536 - val_read_comment_loss: 0.0924 - val_like_loss: 0.0895 - val_click_avatar_loss: 0.0365 - val_forward_loss: 0.0187 - val_read_comment_auc_9: 0.9243 - val_like_auc_9: 0.8316 - val_click_avatar_auc_9: 0.8185 - val_forward_auc_9: 0.8104 - lr: 0.0056\n",
            "Epoch 28/100\n",
            "656/656 [==============================] - 13s 20ms/step - loss: 0.2333 - read_comment_loss: 0.0844 - like_loss: 0.0830 - click_avatar_loss: 0.0311 - forward_loss: 0.0171 - read_comment_auc_9: 0.9475 - like_auc_9: 0.8949 - click_avatar_auc_9: 0.9038 - forward_auc_9: 0.9134 - val_loss: 0.2543 - val_read_comment_loss: 0.0927 - val_like_loss: 0.0894 - val_click_avatar_loss: 0.0366 - val_forward_loss: 0.0186 - val_read_comment_auc_9: 0.9245 - val_like_auc_9: 0.8331 - val_click_avatar_auc_9: 0.8204 - val_forward_auc_9: 0.8125 - lr: 0.0056\n",
            "Epoch 29/100\n",
            "656/656 [==============================] - 13s 20ms/step - loss: 0.2331 - read_comment_loss: 0.0843 - like_loss: 0.0828 - click_avatar_loss: 0.0311 - forward_loss: 0.0170 - read_comment_auc_9: 0.9476 - like_auc_9: 0.8954 - click_avatar_auc_9: 0.9046 - forward_auc_9: 0.9132 - val_loss: 0.2555 - val_read_comment_loss: 0.0934 - val_like_loss: 0.0895 - val_click_avatar_loss: 0.0367 - val_forward_loss: 0.0188 - val_read_comment_auc_9: 0.9219 - val_like_auc_9: 0.8299 - val_click_avatar_auc_9: 0.8151 - val_forward_auc_9: 0.8067 - lr: 0.0056\n",
            "Epoch 30/100\n",
            "656/656 [==============================] - 13s 20ms/step - loss: 0.2330 - read_comment_loss: 0.0843 - like_loss: 0.0827 - click_avatar_loss: 0.0310 - forward_loss: 0.0170 - read_comment_auc_9: 0.9478 - like_auc_9: 0.8964 - click_avatar_auc_9: 0.9044 - forward_auc_9: 0.9137 - val_loss: 0.2551 - val_read_comment_loss: 0.0931 - val_like_loss: 0.0894 - val_click_avatar_loss: 0.0366 - val_forward_loss: 0.0187 - val_read_comment_auc_9: 0.9237 - val_like_auc_9: 0.8325 - val_click_avatar_auc_9: 0.8206 - val_forward_auc_9: 0.8116 - lr: 0.0056\n",
            "Epoch 31/100\n",
            "656/656 [==============================] - 13s 20ms/step - loss: 0.2329 - read_comment_loss: 0.0842 - like_loss: 0.0825 - click_avatar_loss: 0.0309 - forward_loss: 0.0170 - read_comment_auc_9: 0.9478 - like_auc_9: 0.8970 - click_avatar_auc_9: 0.9061 - forward_auc_9: 0.9139 - val_loss: 0.2554 - val_read_comment_loss: 0.0929 - val_like_loss: 0.0896 - val_click_avatar_loss: 0.0368 - val_forward_loss: 0.0186 - val_read_comment_auc_9: 0.9236 - val_like_auc_9: 0.8301 - val_click_avatar_auc_9: 0.8104 - val_forward_auc_9: 0.8164 - lr: 0.0056\n",
            "Epoch 32/100\n",
            "656/656 [==============================] - 13s 20ms/step - loss: 0.2279 - read_comment_loss: 0.0830 - like_loss: 0.0811 - click_avatar_loss: 0.0301 - forward_loss: 0.0165 - read_comment_auc_9: 0.9499 - like_auc_9: 0.9031 - click_avatar_auc_9: 0.9141 - forward_auc_9: 0.9236 - val_loss: 0.2557 - val_read_comment_loss: 0.0931 - val_like_loss: 0.0899 - val_click_avatar_loss: 0.0373 - val_forward_loss: 0.0190 - val_read_comment_auc_9: 0.9222 - val_like_auc_9: 0.8298 - val_click_avatar_auc_9: 0.8069 - val_forward_auc_9: 0.8140 - lr: 0.0042\n",
            "Epoch 33/100\n",
            "656/656 [==============================] - 13s 20ms/step - loss: 0.2269 - read_comment_loss: 0.0828 - like_loss: 0.0807 - click_avatar_loss: 0.0298 - forward_loss: 0.0164 - read_comment_auc_9: 0.9504 - like_auc_9: 0.9049 - click_avatar_auc_9: 0.9164 - forward_auc_9: 0.9251 - val_loss: 0.2575 - val_read_comment_loss: 0.0939 - val_like_loss: 0.0904 - val_click_avatar_loss: 0.0376 - val_forward_loss: 0.0189 - val_read_comment_auc_9: 0.9208 - val_like_auc_9: 0.8268 - val_click_avatar_auc_9: 0.7966 - val_forward_auc_9: 0.8094 - lr: 0.0042\n",
            "Epoch 34/100\n",
            "656/656 [==============================] - 13s 20ms/step - loss: 0.2266 - read_comment_loss: 0.0826 - like_loss: 0.0803 - click_avatar_loss: 0.0296 - forward_loss: 0.0163 - read_comment_auc_9: 0.9508 - like_auc_9: 0.9065 - click_avatar_auc_9: 0.9178 - forward_auc_9: 0.9247 - val_loss: 0.2582 - val_read_comment_loss: 0.0932 - val_like_loss: 0.0910 - val_click_avatar_loss: 0.0377 - val_forward_loss: 0.0191 - val_read_comment_auc_9: 0.9217 - val_like_auc_9: 0.8238 - val_click_avatar_auc_9: 0.7954 - val_forward_auc_9: 0.8025 - lr: 0.0042\n",
            "Epoch 35/100\n",
            "656/656 [==============================] - 13s 20ms/step - loss: 0.2261 - read_comment_loss: 0.0824 - like_loss: 0.0800 - click_avatar_loss: 0.0295 - forward_loss: 0.0163 - read_comment_auc_9: 0.9511 - like_auc_9: 0.9077 - click_avatar_auc_9: 0.9191 - forward_auc_9: 0.9254 - val_loss: 0.2595 - val_read_comment_loss: 0.0936 - val_like_loss: 0.0911 - val_click_avatar_loss: 0.0378 - val_forward_loss: 0.0193 - val_read_comment_auc_9: 0.9210 - val_like_auc_9: 0.8226 - val_click_avatar_auc_9: 0.7962 - val_forward_auc_9: 0.7976 - lr: 0.0042\n",
            "Epoch 36/100\n",
            "656/656 [==============================] - 13s 20ms/step - loss: 0.2258 - read_comment_loss: 0.0822 - like_loss: 0.0796 - click_avatar_loss: 0.0293 - forward_loss: 0.0162 - read_comment_auc_9: 0.9514 - like_auc_9: 0.9091 - click_avatar_auc_9: 0.9209 - forward_auc_9: 0.9281 - val_loss: 0.2608 - val_read_comment_loss: 0.0944 - val_like_loss: 0.0912 - val_click_avatar_loss: 0.0379 - val_forward_loss: 0.0193 - val_read_comment_auc_9: 0.9185 - val_like_auc_9: 0.8206 - val_click_avatar_auc_9: 0.7890 - val_forward_auc_9: 0.7857 - lr: 0.0042\n",
            "Epoch 37/100\n",
            "656/656 [==============================] - 13s 20ms/step - loss: 0.2255 - read_comment_loss: 0.0819 - like_loss: 0.0793 - click_avatar_loss: 0.0291 - forward_loss: 0.0161 - read_comment_auc_9: 0.9519 - like_auc_9: 0.9103 - click_avatar_auc_9: 0.9221 - forward_auc_9: 0.9272 - val_loss: 0.2621 - val_read_comment_loss: 0.0943 - val_like_loss: 0.0918 - val_click_avatar_loss: 0.0380 - val_forward_loss: 0.0194 - val_read_comment_auc_9: 0.9192 - val_like_auc_9: 0.8183 - val_click_avatar_auc_9: 0.7983 - val_forward_auc_9: 0.7880 - lr: 0.0042\n",
            "Epoch 38/100\n",
            "656/656 [==============================] - 13s 20ms/step - loss: 0.2251 - read_comment_loss: 0.0817 - like_loss: 0.0790 - click_avatar_loss: 0.0290 - forward_loss: 0.0161 - read_comment_auc_9: 0.9523 - like_auc_9: 0.9115 - click_avatar_auc_9: 0.9228 - forward_auc_9: 0.9281 - val_loss: 0.2627 - val_read_comment_loss: 0.0947 - val_like_loss: 0.0918 - val_click_avatar_loss: 0.0379 - val_forward_loss: 0.0192 - val_read_comment_auc_9: 0.9186 - val_like_auc_9: 0.8190 - val_click_avatar_auc_9: 0.7946 - val_forward_auc_9: 0.8033 - lr: 0.0042\n",
            "Epoch 39/100\n",
            "656/656 [==============================] - 13s 19ms/step - loss: 0.2249 - read_comment_loss: 0.0816 - like_loss: 0.0788 - click_avatar_loss: 0.0287 - forward_loss: 0.0160 - read_comment_auc_9: 0.9526 - like_auc_9: 0.9124 - click_avatar_auc_9: 0.9248 - forward_auc_9: 0.9296 - val_loss: 0.2640 - val_read_comment_loss: 0.0946 - val_like_loss: 0.0919 - val_click_avatar_loss: 0.0384 - val_forward_loss: 0.0197 - val_read_comment_auc_9: 0.9176 - val_like_auc_9: 0.8181 - val_click_avatar_auc_9: 0.7842 - val_forward_auc_9: 0.7948 - lr: 0.0042\n",
            "Epoch 40/100\n",
            "656/656 [==============================] - 12s 19ms/step - loss: 0.2246 - read_comment_loss: 0.0813 - like_loss: 0.0785 - click_avatar_loss: 0.0286 - forward_loss: 0.0160 - read_comment_auc_9: 0.9530 - like_auc_9: 0.9133 - click_avatar_auc_9: 0.9256 - forward_auc_9: 0.9282 - val_loss: 0.2643 - val_read_comment_loss: 0.0940 - val_like_loss: 0.0925 - val_click_avatar_loss: 0.0384 - val_forward_loss: 0.0195 - val_read_comment_auc_9: 0.9185 - val_like_auc_9: 0.8170 - val_click_avatar_auc_9: 0.7884 - val_forward_auc_9: 0.7927 - lr: 0.0042\n",
            "Epoch 41/100\n",
            "656/656 [==============================] - 13s 20ms/step - loss: 0.2244 - read_comment_loss: 0.0812 - like_loss: 0.0781 - click_avatar_loss: 0.0284 - forward_loss: 0.0159 - read_comment_auc_9: 0.9532 - like_auc_9: 0.9146 - click_avatar_auc_9: 0.9269 - forward_auc_9: 0.9295 - val_loss: 0.2655 - val_read_comment_loss: 0.0949 - val_like_loss: 0.0925 - val_click_avatar_loss: 0.0383 - val_forward_loss: 0.0193 - val_read_comment_auc_9: 0.9179 - val_like_auc_9: 0.8171 - val_click_avatar_auc_9: 0.7863 - val_forward_auc_9: 0.8026 - lr: 0.0042\n",
            "Epoch 42/100\n",
            "656/656 [==============================] - 13s 20ms/step - loss: 0.2186 - read_comment_loss: 0.0796 - like_loss: 0.0761 - click_avatar_loss: 0.0273 - forward_loss: 0.0153 - read_comment_auc_9: 0.9557 - like_auc_9: 0.9210 - click_avatar_auc_9: 0.9352 - forward_auc_9: 0.9373 - val_loss: 0.2694 - val_read_comment_loss: 0.0951 - val_like_loss: 0.0938 - val_click_avatar_loss: 0.0402 - val_forward_loss: 0.0205 - val_read_comment_auc_9: 0.9141 - val_like_auc_9: 0.8122 - val_click_avatar_auc_9: 0.7672 - val_forward_auc_9: 0.7664 - lr: 0.0032\n",
            "Epoch 43/100\n",
            "656/656 [==============================] - 14s 21ms/step - loss: 0.2167 - read_comment_loss: 0.0790 - like_loss: 0.0753 - click_avatar_loss: 0.0268 - forward_loss: 0.0152 - read_comment_auc_9: 0.9567 - like_auc_9: 0.9235 - click_avatar_auc_9: 0.9381 - forward_auc_9: 0.9387 - val_loss: 0.2698 - val_read_comment_loss: 0.0950 - val_like_loss: 0.0942 - val_click_avatar_loss: 0.0401 - val_forward_loss: 0.0201 - val_read_comment_auc_9: 0.9156 - val_like_auc_9: 0.8098 - val_click_avatar_auc_9: 0.7701 - val_forward_auc_9: 0.7619 - lr: 0.0032\n",
            "Epoch 44/100\n",
            "656/656 [==============================] - 13s 20ms/step - loss: 0.2157 - read_comment_loss: 0.0786 - like_loss: 0.0746 - click_avatar_loss: 0.0265 - forward_loss: 0.0151 - read_comment_auc_9: 0.9572 - like_auc_9: 0.9258 - click_avatar_auc_9: 0.9397 - forward_auc_9: 0.9393 - val_loss: 0.2737 - val_read_comment_loss: 0.0959 - val_like_loss: 0.0959 - val_click_avatar_loss: 0.0404 - val_forward_loss: 0.0207 - val_read_comment_auc_9: 0.9129 - val_like_auc_9: 0.8047 - val_click_avatar_auc_9: 0.7708 - val_forward_auc_9: 0.7610 - lr: 0.0032\n",
            "Epoch 45/100\n",
            "656/656 [==============================] - 13s 20ms/step - loss: 0.2149 - read_comment_loss: 0.0782 - like_loss: 0.0741 - click_avatar_loss: 0.0262 - forward_loss: 0.0149 - read_comment_auc_9: 0.9579 - like_auc_9: 0.9270 - click_avatar_auc_9: 0.9406 - forward_auc_9: 0.9405 - val_loss: 0.2753 - val_read_comment_loss: 0.0969 - val_like_loss: 0.0961 - val_click_avatar_loss: 0.0403 - val_forward_loss: 0.0206 - val_read_comment_auc_9: 0.9100 - val_like_auc_9: 0.8042 - val_click_avatar_auc_9: 0.7627 - val_forward_auc_9: 0.7645 - lr: 0.0032\n",
            "Epoch 46/100\n",
            "656/656 [==============================] - 13s 20ms/step - loss: 0.2141 - read_comment_loss: 0.0779 - like_loss: 0.0735 - click_avatar_loss: 0.0260 - forward_loss: 0.0148 - read_comment_auc_9: 0.9583 - like_auc_9: 0.9286 - click_avatar_auc_9: 0.9418 - forward_auc_9: 0.9416 - val_loss: 0.2766 - val_read_comment_loss: 0.0963 - val_like_loss: 0.0962 - val_click_avatar_loss: 0.0412 - val_forward_loss: 0.0210 - val_read_comment_auc_9: 0.9111 - val_like_auc_9: 0.8035 - val_click_avatar_auc_9: 0.7569 - val_forward_auc_9: 0.7622 - lr: 0.0032\n",
            "Epoch 47/100\n",
            "656/656 [==============================] - 13s 20ms/step - loss: 0.2133 - read_comment_loss: 0.0776 - like_loss: 0.0729 - click_avatar_loss: 0.0257 - forward_loss: 0.0147 - read_comment_auc_9: 0.9588 - like_auc_9: 0.9300 - click_avatar_auc_9: 0.9435 - forward_auc_9: 0.9412 - val_loss: 0.2798 - val_read_comment_loss: 0.0973 - val_like_loss: 0.0977 - val_click_avatar_loss: 0.0414 - val_forward_loss: 0.0209 - val_read_comment_auc_9: 0.9090 - val_like_auc_9: 0.7987 - val_click_avatar_auc_9: 0.7577 - val_forward_auc_9: 0.7643 - lr: 0.0032\n",
            "Epoch 48/100\n",
            "656/656 [==============================] - 13s 20ms/step - loss: 0.2127 - read_comment_loss: 0.0772 - like_loss: 0.0724 - click_avatar_loss: 0.0256 - forward_loss: 0.0146 - read_comment_auc_9: 0.9593 - like_auc_9: 0.9313 - click_avatar_auc_9: 0.9442 - forward_auc_9: 0.9440 - val_loss: 0.2785 - val_read_comment_loss: 0.0970 - val_like_loss: 0.0972 - val_click_avatar_loss: 0.0406 - val_forward_loss: 0.0207 - val_read_comment_auc_9: 0.9092 - val_like_auc_9: 0.8015 - val_click_avatar_auc_9: 0.7662 - val_forward_auc_9: 0.7591 - lr: 0.0032\n",
            "Epoch 49/100\n",
            "656/656 [==============================] - 13s 20ms/step - loss: 0.2122 - read_comment_loss: 0.0770 - like_loss: 0.0720 - click_avatar_loss: 0.0253 - forward_loss: 0.0145 - read_comment_auc_9: 0.9597 - like_auc_9: 0.9326 - click_avatar_auc_9: 0.9456 - forward_auc_9: 0.9431 - val_loss: 0.2830 - val_read_comment_loss: 0.0979 - val_like_loss: 0.0983 - val_click_avatar_loss: 0.0419 - val_forward_loss: 0.0214 - val_read_comment_auc_9: 0.9081 - val_like_auc_9: 0.7968 - val_click_avatar_auc_9: 0.7519 - val_forward_auc_9: 0.7443 - lr: 0.0032\n",
            "Epoch 50/100\n",
            "656/656 [==============================] - 13s 20ms/step - loss: 0.2116 - read_comment_loss: 0.0766 - like_loss: 0.0715 - click_avatar_loss: 0.0252 - forward_loss: 0.0144 - read_comment_auc_9: 0.9601 - like_auc_9: 0.9336 - click_avatar_auc_9: 0.9468 - forward_auc_9: 0.9444 - val_loss: 0.2853 - val_read_comment_loss: 0.0980 - val_like_loss: 0.0995 - val_click_avatar_loss: 0.0424 - val_forward_loss: 0.0214 - val_read_comment_auc_9: 0.9065 - val_like_auc_9: 0.7933 - val_click_avatar_auc_9: 0.7475 - val_forward_auc_9: 0.7450 - lr: 0.0032\n",
            "Epoch 51/100\n",
            "656/656 [==============================] - 13s 20ms/step - loss: 0.2109 - read_comment_loss: 0.0763 - like_loss: 0.0710 - click_avatar_loss: 0.0250 - forward_loss: 0.0143 - read_comment_auc_9: 0.9605 - like_auc_9: 0.9345 - click_avatar_auc_9: 0.9467 - forward_auc_9: 0.9452 - val_loss: 0.2849 - val_read_comment_loss: 0.0985 - val_like_loss: 0.0987 - val_click_avatar_loss: 0.0422 - val_forward_loss: 0.0212 - val_read_comment_auc_9: 0.9066 - val_like_auc_9: 0.7939 - val_click_avatar_auc_9: 0.7471 - val_forward_auc_9: 0.7518 - lr: 0.0032\n",
            "Epoch 52/100\n",
            "656/656 [==============================] - 12s 19ms/step - loss: 0.2103 - read_comment_loss: 0.0761 - like_loss: 0.0706 - click_avatar_loss: 0.0248 - forward_loss: 0.0143 - read_comment_auc_9: 0.9609 - like_auc_9: 0.9356 - click_avatar_auc_9: 0.9479 - forward_auc_9: 0.9451 - val_loss: 0.2853 - val_read_comment_loss: 0.0981 - val_like_loss: 0.0989 - val_click_avatar_loss: 0.0422 - val_forward_loss: 0.0214 - val_read_comment_auc_9: 0.9069 - val_like_auc_9: 0.7932 - val_click_avatar_auc_9: 0.7474 - val_forward_auc_9: 0.7423 - lr: 0.0032\n",
            "Epoch 53/100\n",
            "655/656 [============================>.] - ETA: 0s - loss: 0.2098 - read_comment_loss: 0.0758 - like_loss: 0.0702 - click_avatar_loss: 0.0247 - forward_loss: 0.0142 - read_comment_auc_9: 0.9611 - like_auc_9: 0.9365 - click_avatar_auc_9: 0.9481 - forward_auc_9: 0.9458Restoring model weights from the end of the best epoch: 23.\n",
            "656/656 [==============================] - 12s 19ms/step - loss: 0.2098 - read_comment_loss: 0.0758 - like_loss: 0.0702 - click_avatar_loss: 0.0247 - forward_loss: 0.0142 - read_comment_auc_9: 0.9611 - like_auc_9: 0.9365 - click_avatar_auc_9: 0.9480 - forward_auc_9: 0.9457 - val_loss: 0.2877 - val_read_comment_loss: 0.0988 - val_like_loss: 0.0999 - val_click_avatar_loss: 0.0425 - val_forward_loss: 0.0215 - val_read_comment_auc_9: 0.9062 - val_like_auc_9: 0.7932 - val_click_avatar_auc_9: 0.7445 - val_forward_auc_9: 0.7601 - lr: 0.0032\n",
            "Epoch 53: early stopping\n"
          ]
        }
      ]
    },
    {
      "cell_type": "code",
      "source": [
        "# 构建模型，训练和评估\n",
        "model = build_mmoe(sparse_features,dense_features,sparse_max_len,embed_dim = 16,expert_dim = 32,\n",
        "          n_task = 4,n_expert = 4,varlens_cols = varlen_features,varlens_max_len = varlens_max_len,\n",
        "          dnn_hidden_units = (64,64),target = target,dnn_reg_l2 = 1e-5,drop_rate = 0.1)\n",
        "\n",
        "\n",
        "adam = optimizers.Adam(learning_rate=0.01, beta_1=0.9, beta_2=0.999, epsilon=None, decay=0.0, amsgrad=False)\n",
        "model.compile(adam, loss = 'binary_crossentropy' ,metrics = [tf.keras.metrics.AUC()],)\n",
        "\n",
        "history = model.fit(train_model_input, train_labels,validation_data = (val_model_input,val_labels),\n",
        "                    batch_size=10240, epochs=100, verbose=1,callbacks=[lr,es])"
      ],
      "metadata": {
        "id": "Ia6ffFq4wboZ"
      },
      "execution_count": null,
      "outputs": []
    },
    {
      "cell_type": "markdown",
      "source": [
        "    read_comment_auc_5: 0.9607"
      ],
      "metadata": {
        "id": "G0z2g6b1CaxQ"
      }
    },
    {
      "cell_type": "markdown",
      "source": [
        "# 在deepfm后面接mmoe"
      ],
      "metadata": {
        "id": "siuOSHMV-yn4"
      }
    },
    {
      "cell_type": "code",
      "source": [
        "def build_FM_mmoe(sparse_cols,dense_cols,sparse_max_len,embed_dim = 16, \n",
        "               dnn_hidden_units=(128, 128),varlens_cols = [],varlens_max_len = {},\n",
        "               dropout = 0,embedding_reg_l2 = 1e-6,dnn_reg_l2 = 0.0):\n",
        "    ''' \n",
        "    sparse_cols,dense_cols:离散变量名，连续变量名。\n",
        "    sparse_max_len：字典：离散变量对应的最大的取值范围。\n",
        "    varlens_cols:可变离散变量名。\n",
        "    varlens_max_len:可变离散变量的最大取值范围。\n",
        "    '''\n",
        "    \n",
        "    #输入部分，分为sparse,varlens,dense部分。\n",
        "    sparse_inputs = {f:Input([1],name = f) for f in sparse_cols}\n",
        "    dense_inputs = {f:Input([1],name = f) for f in dense_cols}\n",
        "    varlens_inputs = {f:Input([None,1],name = f) for f in varlens_cols}\n",
        "        \n",
        "    input_embed = {}\n",
        "    #离散特征，embedding到k维，得到其隐向量。wi\n",
        "    for f in sparse_cols:\n",
        "        _input = sparse_inputs[f]\n",
        "        embedding = Embedding(sparse_max_len[f], embed_dim, \n",
        "            embeddings_regularizer=tf.keras.regularizers.l2(embedding_reg_l2)) \n",
        "        input_embed[f] =Flatten()(embedding(_input)) #(bs,k)\n",
        "        \n",
        "    #多标签离散变量 多标签离散变量是用的这个，masking掉了\n",
        "    for f in varlens_inputs:\n",
        "        _input = varlens_inputs[f]\n",
        "        mask = Masking(mask_value = 0).compute_mask(_input)\n",
        "        embedding = Embedding(varlens_max_len[f], embed_dim,\n",
        "            embeddings_regularizer=tf.keras.regularizers.l2(1e-6))\n",
        "        _embed =Reshape([-1,embed_dim])(embedding(_input))\n",
        "        out_embed = MeanPoolLayer(axis=1)(_embed,mask) # 这里的输出也做了mask，是直接用的masking层做的\n",
        "        input_embed[f] = out_embed\n",
        "    \n",
        "    #连续变量\n",
        "    for f in dense_inputs:\n",
        "        _input = dense_inputs[f]\n",
        "        _embed = Dense(embed_dim,use_bias = False,activation = 'linear')(_input)\n",
        "        input_embed[f] = _embed\n",
        "        \n",
        "    feature_name =  sparse_cols+varlens_cols+dense_cols\n",
        "    fm_embed = [input_embed[f] for f in feature_name]\n",
        "    fm_part = secondary_fm(fm_embed)\n",
        "    \n",
        "    #离散变量和连续变量拼接成dnn feature\n",
        "    dnn_feature = Concatenate(axis = -1)(fm_embed)\n",
        "\n",
        "    for index,num in enumerate(dnn_hidden_units):\n",
        "        if index == len(dnn_hidden_units)-1:\n",
        "          \n",
        "          dnn_feature = Dropout(dropout,name='base_model_output_dnn')(Dense(num,activation='relu',\n",
        "                      kernel_regularizer=regularizers.l2(dnn_reg_l2))(dnn_feature))\n",
        "        else:\n",
        "          dnn_feature = Dropout(dropout)(Dense(num,activation='relu',\n",
        "                      kernel_regularizer=regularizers.l2(dnn_reg_l2))(dnn_feature))\n",
        "        \n",
        "        \n",
        "\n",
        "\n",
        "    deepfm_output =Concatenate()([fm_part,dnn_feature])\n",
        "    towers = MmoeLayer(32,4,4)(deepfm_output) ## input embedd这个部分用mmoe就可以了\n",
        "    outputs = [Dense(1,activation = 'sigmoid', kernel_regularizer=regularizers.l2(dnn_reg_l2),\n",
        "                     name = f,use_bias = True)(_t) for _t,f in zip(towers,target)]\n",
        "    \n",
        "    inputs = [sparse_inputs[f] for f in sparse_inputs]+[varlens_inputs[f] for f in varlens_inputs]\\\n",
        "                +[dense_inputs[f] for f in dense_inputs]\n",
        "    model = Model(inputs,outputs) \n",
        "    return model"
      ],
      "metadata": {
        "id": "lPvKlR6F3Ns-"
      },
      "execution_count": 43,
      "outputs": []
    },
    {
      "cell_type": "code",
      "source": [
        "model = build_FM_mmoe(sparse_features,dense_features,sparse_max_len,embed_dim = 16, \n",
        "            dnn_hidden_units=(64,64),varlens_cols = varlen_features,varlens_max_len = varlens_max_len,\n",
        "            dropout = 0.1,embedding_reg_l2 = 1e-6,dnn_reg_l2 = 0.0)"
      ],
      "metadata": {
        "id": "Nud9oGe-Am4i"
      },
      "execution_count": 52,
      "outputs": []
    },
    {
      "cell_type": "code",
      "source": [
        "adam = optimizers.Adam(learning_rate=0.01, beta_1=0.9, beta_2=0.999, epsilon=None, decay=0.0, amsgrad=False)\n",
        "model.compile(adam, loss = 'binary_crossentropy' ,metrics = [tf.keras.metrics.AUC()],)"
      ],
      "metadata": {
        "id": "KgaITkm9CIYl"
      },
      "execution_count": 53,
      "outputs": []
    },
    {
      "cell_type": "code",
      "source": [
        "from tensorflow.keras.callbacks import *\n",
        "lr = ReduceLROnPlateau(monitor=\"val_read_comment_auc_7\", factor=0.75, \n",
        "                        patience=10, verbose=0)\n",
        "\n",
        "es = EarlyStopping(monitor=\"val_read_comment_auc_7\", patience=30, \n",
        "                    verbose=2, mode=\"max\", \n",
        "                    restore_best_weights=True)\n",
        "\n",
        "history = model.fit(train_model_input, train_labels,validation_data = (val_model_input,val_labels),\n",
        "                    batch_size=10240, epochs=200, verbose=1,callbacks=[lr,es])"
      ],
      "metadata": {
        "id": "3Poo4ketCJCV"
      },
      "execution_count": null,
      "outputs": []
    },
    {
      "cell_type": "markdown",
      "source": [
        "read_comment_auc_7: 0.9534 "
      ],
      "metadata": {
        "id": "Cccv3uawnwpO"
      }
    },
    {
      "cell_type": "markdown",
      "source": [
        "# ple"
      ],
      "metadata": {
        "id": "TYX8oQypfjz2"
      }
    },
    {
      "cell_type": "code",
      "source": [
        "class MeanPoolLayer(Layer):\n",
        "    def __init__(self, axis, **kwargs):\n",
        "        super(MeanPoolLayer, self).__init__(**kwargs)\n",
        "        self.axis = axis\n",
        "\n",
        "    def call(self, x, mask):\n",
        "        mask = tf.expand_dims(tf.cast(mask,tf.float32),axis = -1)\n",
        "        x = x * mask\n",
        "        return K.sum(x, axis=self.axis) / (K.sum(mask, axis=self.axis) + 1e-9)\n",
        "\n",
        "class PleLayer(tf.keras.layers.Layer):\n",
        "    '''\n",
        "    n_experts:list,每个任务使用几个expert。[2,3]第一个任务使用2个expert，第二个任务使用3个expert。\n",
        "    n_expert_share:int,共享的部分设置的expert个数。\n",
        "    expert_dim:int,每个专家网络输出的向量维度。\n",
        "    n_task:int,任务个数。\n",
        "    '''\n",
        "    def __init__(self,n_task,n_experts,expert_dim,n_expert_share,dnn_reg_l2 = 1e-5):\n",
        "        super(PleLayer, self).__init__()\n",
        "        self.n_task = n_task\n",
        "        \n",
        "        # 生成多个任务特定网络和1个共享网络。\n",
        "        self.E_layer = []\n",
        "        for i in range(n_task):\n",
        "            sub_exp = [Dense(expert_dim,activation = 'relu') for j in range(n_experts[i])]\n",
        "            self.E_layer.append(sub_exp)\n",
        "            \n",
        "        self.share_layer = [Dense(expert_dim,activation = 'relu') for j in range(n_expert_share)]\n",
        "        #定义门控网络\n",
        "        self.gate_layers = [Dense(n_expert_share+n_experts[i],kernel_regularizer=regularizers.l2(dnn_reg_l2),\n",
        "                                  activation = 'softmax') for i in range(n_task)]\n",
        "\n",
        "    def call(self,x):\n",
        "        #特定网络和共享网络\n",
        "        E_net = [[expert(x) for expert in sub_expert] for sub_expert in self.E_layer]\n",
        "        share_net = [expert(x) for expert in self.share_layer]\n",
        "        \n",
        "        #门的权重乘上，指定任务和共享任务的输出。\n",
        "        towers = []\n",
        "        for i in range(self.n_task):\n",
        "            g = self.gate_layers[i](x)\n",
        "            g = tf.expand_dims(g,axis = -1) #(bs,n_expert_share+n_experts[i],1)\n",
        "            _e = share_net+E_net[i]  \n",
        "            _e = Concatenate(axis = 1)([expert[:,tf.newaxis,:] for expert in _e]) #(bs,n_expert_share+n_experts[i],expert_dim)\n",
        "            _tower = tf.matmul(_e, g,transpose_a=True)\n",
        "            towers.append(Flatten()(_tower)) #(bs,expert_dim)\n",
        "        return towers\n",
        "\n",
        "def build_ple(sparse_cols,dense_cols,sparse_max_len,embed_dim,expert_dim = 4,\n",
        "              varlens_cols = [],varlens_max_len = [],dnn_hidden_units = (64,64),\n",
        "              n_task = 2,n_experts = [2,2],n_expert_share = 4,dnn_reg_l2 = 1e-6,\n",
        "              drop_rate = 0.0,embedding_reg_l2 = 1e-6,targets = []):\n",
        "\n",
        "   #输入部分，分为sparse,varlens,dense部分。\n",
        "    sparse_inputs = {f:Input([1],name = f) for f in sparse_cols}\n",
        "    dense_inputs = {f:Input([1],name = f) for f in dense_cols}\n",
        "    varlens_inputs = {f:Input([None,1],name = f) for f in varlens_cols}\n",
        "        \n",
        "    input_embed = {}\n",
        "    #离散特征，embedding到k维\n",
        "    for f in sparse_cols:\n",
        "        _input = sparse_inputs[f]\n",
        "        embedding = Embedding(sparse_max_len[f], embed_dim, \n",
        "            embeddings_regularizer=tf.keras.regularizers.l2(embedding_reg_l2)) \n",
        "        input_embed[f] =Flatten()(embedding(_input)) #(bs,k)\n",
        "        \n",
        "    #多标签离散变量\n",
        "    for f in varlens_inputs:\n",
        "        _input = varlens_inputs[f]\n",
        "        mask = Masking(mask_value = 0).compute_mask(_input)\n",
        "        embedding = Embedding(varlens_max_len[f], embed_dim,\n",
        "            embeddings_regularizer=tf.keras.regularizers.l2(1e-6))\n",
        "        _embed =Reshape([-1,embed_dim])(embedding(_input))\n",
        "        out_embed = MeanPoolLayer(axis=1)(_embed,mask)\n",
        "        input_embed[f] = out_embed\n",
        "        \n",
        "    input_embed.update(dense_inputs) #加入连续变量\n",
        "    input_embed = Concatenate(axis = -1)([input_embed[f] for f in input_embed])    \n",
        "                                  \n",
        "    for num in dnn_hidden_units:\n",
        "        input_embed = Dropout(drop_rate)(Dense(num,activation = 'relu',\n",
        "                    kernel_regularizer=regularizers.l2(dnn_reg_l2))(input_embed))\n",
        "    #Ple网络层\n",
        "    towers = PleLayer(n_task,n_experts,expert_dim,n_expert_share)(input_embed)\n",
        "    outputs = [Dense(1,activation = 'sigmoid',kernel_regularizer=regularizers.l2(dnn_reg_l2),\n",
        "                       name = f,use_bias = True)(_t) for f,_t in zip(targets,towers)]\n",
        "    inputs = [sparse_inputs[f] for f in sparse_inputs]+[varlens_inputs[f] for f in varlens_inputs]\\\n",
        "                +[dense_inputs[f] for f in dense_inputs]\n",
        "    model = Model(inputs,outputs) \n",
        "    return model"
      ],
      "metadata": {
        "id": "ajEmiT7eC7Gr"
      },
      "execution_count": 64,
      "outputs": []
    },
    {
      "cell_type": "code",
      "source": [
        "# 构建模型，训练和评估\n",
        "model = build_ple(sparse_features,dense_features,sparse_max_len,embed_dim = 16,expert_dim = 32,\n",
        "          varlens_cols = varlen_features,varlens_max_len = varlens_max_len,dnn_hidden_units = (64,),\n",
        "          n_task = 4,n_experts = [8,4,4,4],n_expert_share = 8,dnn_reg_l2 = 1e-6,\n",
        "          drop_rate = 0.1,embedding_reg_l2 = 1e-6,targets = target)\n",
        "\n",
        "adam = optimizers.Adam(learning_rate=0.01, beta_1=0.9, beta_2=0.999, epsilon=None, decay=0.0, amsgrad=False)\n",
        "model.compile(adam, loss = 'binary_crossentropy' ,metrics = [tf.keras.metrics.AUC()],)\n",
        "\n",
        "\n",
        "from tensorflow.keras.callbacks import *\n",
        "lr = ReduceLROnPlateau(monitor=\"val_read_comment_auc_13\", factor=0.75, \n",
        "                        patience=10, verbose=2,model='max')\n",
        "\n",
        "es = EarlyStopping(monitor=\"val_read_comment_auc_13\", patience=30, \n",
        "                    verbose=2, mode=\"max\", \n",
        "                    restore_best_weights=True)\n",
        "\n",
        "history = model.fit(train_model_input, train_labels,validation_data = (val_model_input,val_labels),\n",
        "                    batch_size=10240, epochs=200, verbose=1,callbacks=[lr,es])"
      ],
      "metadata": {
        "colab": {
          "base_uri": "https://localhost:8080/"
        },
        "id": "LMJX1NJ5gmCF",
        "outputId": "dbad686d-e129-4c1d-8eab-97b4281c0477"
      },
      "execution_count": 68,
      "outputs": [
        {
          "output_type": "stream",
          "name": "stdout",
          "text": [
            "Epoch 1/200\n",
            "656/656 [==============================] - 21s 23ms/step - loss: 0.2828 - read_comment_loss: 0.1012 - like_loss: 0.0995 - click_avatar_loss: 0.0435 - forward_loss: 0.0261 - read_comment_auc_13: 0.9088 - like_auc_13: 0.8184 - click_avatar_auc_13: 0.7740 - forward_auc_13: 0.7574 - val_loss: 0.2529 - val_read_comment_loss: 0.0935 - val_like_loss: 0.0900 - val_click_avatar_loss: 0.0364 - val_forward_loss: 0.0186 - val_read_comment_auc_13: 0.9213 - val_like_auc_13: 0.8306 - val_click_avatar_auc_13: 0.8207 - val_forward_auc_13: 0.8143 - lr: 0.0100\n",
            "Epoch 2/200\n",
            "656/656 [==============================] - 14s 21ms/step - loss: 0.2492 - read_comment_loss: 0.0899 - like_loss: 0.0892 - click_avatar_loss: 0.0351 - forward_loss: 0.0194 - read_comment_auc_13: 0.9358 - like_auc_13: 0.8628 - click_avatar_auc_13: 0.8484 - forward_auc_13: 0.8525 - val_loss: 0.2518 - val_read_comment_loss: 0.0927 - val_like_loss: 0.0893 - val_click_avatar_loss: 0.0362 - val_forward_loss: 0.0183 - val_read_comment_auc_13: 0.9228 - val_like_auc_13: 0.8350 - val_click_avatar_auc_13: 0.8151 - val_forward_auc_13: 0.8040 - lr: 0.0100\n",
            "Epoch 3/200\n",
            "656/656 [==============================] - 14s 21ms/step - loss: 0.2475 - read_comment_loss: 0.0889 - like_loss: 0.0884 - click_avatar_loss: 0.0346 - forward_loss: 0.0190 - read_comment_auc_13: 0.9384 - like_auc_13: 0.8671 - click_avatar_auc_13: 0.8569 - forward_auc_13: 0.8653 - val_loss: 0.2518 - val_read_comment_loss: 0.0925 - val_like_loss: 0.0888 - val_click_avatar_loss: 0.0361 - val_forward_loss: 0.0185 - val_read_comment_auc_13: 0.9237 - val_like_auc_13: 0.8387 - val_click_avatar_auc_13: 0.8218 - val_forward_auc_13: 0.8231 - lr: 0.0100\n",
            "Epoch 4/200\n",
            "656/656 [==============================] - 13s 20ms/step - loss: 0.2466 - read_comment_loss: 0.0882 - like_loss: 0.0879 - click_avatar_loss: 0.0343 - forward_loss: 0.0188 - read_comment_auc_13: 0.9398 - like_auc_13: 0.8696 - click_avatar_auc_13: 0.8603 - forward_auc_13: 0.8743 - val_loss: 0.2523 - val_read_comment_loss: 0.0925 - val_like_loss: 0.0889 - val_click_avatar_loss: 0.0362 - val_forward_loss: 0.0183 - val_read_comment_auc_13: 0.9244 - val_like_auc_13: 0.8376 - val_click_avatar_auc_13: 0.8254 - val_forward_auc_13: 0.8179 - lr: 0.0100\n",
            "Epoch 5/200\n",
            "656/656 [==============================] - 13s 20ms/step - loss: 0.2464 - read_comment_loss: 0.0880 - like_loss: 0.0876 - click_avatar_loss: 0.0341 - forward_loss: 0.0187 - read_comment_auc_13: 0.9404 - like_auc_13: 0.8711 - click_avatar_auc_13: 0.8631 - forward_auc_13: 0.8758 - val_loss: 0.2527 - val_read_comment_loss: 0.0921 - val_like_loss: 0.0890 - val_click_avatar_loss: 0.0361 - val_forward_loss: 0.0185 - val_read_comment_auc_13: 0.9264 - val_like_auc_13: 0.8363 - val_click_avatar_auc_13: 0.8236 - val_forward_auc_13: 0.7990 - lr: 0.0100\n",
            "Epoch 6/200\n",
            "656/656 [==============================] - 14s 21ms/step - loss: 0.2461 - read_comment_loss: 0.0877 - like_loss: 0.0874 - click_avatar_loss: 0.0340 - forward_loss: 0.0186 - read_comment_auc_13: 0.9410 - like_auc_13: 0.8719 - click_avatar_auc_13: 0.8644 - forward_auc_13: 0.8788 - val_loss: 0.2532 - val_read_comment_loss: 0.0926 - val_like_loss: 0.0888 - val_click_avatar_loss: 0.0361 - val_forward_loss: 0.0186 - val_read_comment_auc_13: 0.9230 - val_like_auc_13: 0.8393 - val_click_avatar_auc_13: 0.8209 - val_forward_auc_13: 0.7936 - lr: 0.0100\n",
            "Epoch 7/200\n",
            "656/656 [==============================] - 14s 21ms/step - loss: 0.2458 - read_comment_loss: 0.0876 - like_loss: 0.0873 - click_avatar_loss: 0.0338 - forward_loss: 0.0185 - read_comment_auc_13: 0.9412 - like_auc_13: 0.8728 - click_avatar_auc_13: 0.8677 - forward_auc_13: 0.8801 - val_loss: 0.2529 - val_read_comment_loss: 0.0923 - val_like_loss: 0.0890 - val_click_avatar_loss: 0.0363 - val_forward_loss: 0.0183 - val_read_comment_auc_13: 0.9233 - val_like_auc_13: 0.8390 - val_click_avatar_auc_13: 0.8316 - val_forward_auc_13: 0.8218 - lr: 0.0100\n",
            "Epoch 8/200\n",
            "656/656 [==============================] - 14s 21ms/step - loss: 0.2457 - read_comment_loss: 0.0874 - like_loss: 0.0871 - click_avatar_loss: 0.0338 - forward_loss: 0.0184 - read_comment_auc_13: 0.9413 - like_auc_13: 0.8733 - click_avatar_auc_13: 0.8689 - forward_auc_13: 0.8833 - val_loss: 0.2528 - val_read_comment_loss: 0.0917 - val_like_loss: 0.0891 - val_click_avatar_loss: 0.0362 - val_forward_loss: 0.0183 - val_read_comment_auc_13: 0.9249 - val_like_auc_13: 0.8364 - val_click_avatar_auc_13: 0.8223 - val_forward_auc_13: 0.8325 - lr: 0.0100\n",
            "Epoch 9/200\n",
            "656/656 [==============================] - 13s 20ms/step - loss: 0.2453 - read_comment_loss: 0.0873 - like_loss: 0.0870 - click_avatar_loss: 0.0336 - forward_loss: 0.0184 - read_comment_auc_13: 0.9417 - like_auc_13: 0.8739 - click_avatar_auc_13: 0.8702 - forward_auc_13: 0.8838 - val_loss: 0.2531 - val_read_comment_loss: 0.0926 - val_like_loss: 0.0887 - val_click_avatar_loss: 0.0359 - val_forward_loss: 0.0185 - val_read_comment_auc_13: 0.9231 - val_like_auc_13: 0.8377 - val_click_avatar_auc_13: 0.8254 - val_forward_auc_13: 0.8174 - lr: 0.0100\n",
            "Epoch 10/200\n",
            "656/656 [==============================] - 13s 21ms/step - loss: 0.2451 - read_comment_loss: 0.0872 - like_loss: 0.0869 - click_avatar_loss: 0.0336 - forward_loss: 0.0184 - read_comment_auc_13: 0.9418 - like_auc_13: 0.8745 - click_avatar_auc_13: 0.8716 - forward_auc_13: 0.8846 - val_loss: 0.2536 - val_read_comment_loss: 0.0927 - val_like_loss: 0.0889 - val_click_avatar_loss: 0.0361 - val_forward_loss: 0.0184 - val_read_comment_auc_13: 0.9236 - val_like_auc_13: 0.8362 - val_click_avatar_auc_13: 0.8302 - val_forward_auc_13: 0.8341 - lr: 0.0100\n",
            "Epoch 11/200\n",
            "655/656 [============================>.] - ETA: 0s - loss: 0.2449 - read_comment_loss: 0.0872 - like_loss: 0.0868 - click_avatar_loss: 0.0335 - forward_loss: 0.0183 - read_comment_auc_13: 0.9419 - like_auc_13: 0.8748 - click_avatar_auc_13: 0.8731 - forward_auc_13: 0.8861\n",
            "Epoch 11: ReduceLROnPlateau reducing learning rate to 0.007499999832361937.\n",
            "656/656 [==============================] - 13s 20ms/step - loss: 0.2449 - read_comment_loss: 0.0872 - like_loss: 0.0868 - click_avatar_loss: 0.0335 - forward_loss: 0.0183 - read_comment_auc_13: 0.9419 - like_auc_13: 0.8748 - click_avatar_auc_13: 0.8731 - forward_auc_13: 0.8861 - val_loss: 0.2529 - val_read_comment_loss: 0.0925 - val_like_loss: 0.0886 - val_click_avatar_loss: 0.0361 - val_forward_loss: 0.0184 - val_read_comment_auc_13: 0.9253 - val_like_auc_13: 0.8394 - val_click_avatar_auc_13: 0.8253 - val_forward_auc_13: 0.8285 - lr: 0.0100\n",
            "Epoch 12/200\n",
            "656/656 [==============================] - 14s 21ms/step - loss: 0.2397 - read_comment_loss: 0.0862 - like_loss: 0.0859 - click_avatar_loss: 0.0328 - forward_loss: 0.0179 - read_comment_auc_13: 0.9439 - like_auc_13: 0.8798 - click_avatar_auc_13: 0.8821 - forward_auc_13: 0.8970 - val_loss: 0.2506 - val_read_comment_loss: 0.0922 - val_like_loss: 0.0883 - val_click_avatar_loss: 0.0361 - val_forward_loss: 0.0184 - val_read_comment_auc_13: 0.9237 - val_like_auc_13: 0.8399 - val_click_avatar_auc_13: 0.8307 - val_forward_auc_13: 0.8130 - lr: 0.0075\n",
            "Epoch 13/200\n",
            "656/656 [==============================] - 14s 21ms/step - loss: 0.2392 - read_comment_loss: 0.0860 - like_loss: 0.0856 - click_avatar_loss: 0.0326 - forward_loss: 0.0178 - read_comment_auc_13: 0.9442 - like_auc_13: 0.8807 - click_avatar_auc_13: 0.8851 - forward_auc_13: 0.8986 - val_loss: 0.2512 - val_read_comment_loss: 0.0922 - val_like_loss: 0.0883 - val_click_avatar_loss: 0.0363 - val_forward_loss: 0.0184 - val_read_comment_auc_13: 0.9251 - val_like_auc_13: 0.8392 - val_click_avatar_auc_13: 0.8282 - val_forward_auc_13: 0.8121 - lr: 0.0075\n",
            "Epoch 14/200\n",
            "656/656 [==============================] - 13s 21ms/step - loss: 0.2390 - read_comment_loss: 0.0859 - like_loss: 0.0855 - click_avatar_loss: 0.0325 - forward_loss: 0.0177 - read_comment_auc_13: 0.9445 - like_auc_13: 0.8816 - click_avatar_auc_13: 0.8869 - forward_auc_13: 0.9008 - val_loss: 0.2508 - val_read_comment_loss: 0.0918 - val_like_loss: 0.0882 - val_click_avatar_loss: 0.0361 - val_forward_loss: 0.0183 - val_read_comment_auc_13: 0.9253 - val_like_auc_13: 0.8406 - val_click_avatar_auc_13: 0.8251 - val_forward_auc_13: 0.8280 - lr: 0.0075\n",
            "Epoch 15/200\n",
            "656/656 [==============================] - 14s 21ms/step - loss: 0.2386 - read_comment_loss: 0.0857 - like_loss: 0.0853 - click_avatar_loss: 0.0324 - forward_loss: 0.0176 - read_comment_auc_13: 0.9448 - like_auc_13: 0.8828 - click_avatar_auc_13: 0.8883 - forward_auc_13: 0.9035 - val_loss: 0.2518 - val_read_comment_loss: 0.0923 - val_like_loss: 0.0882 - val_click_avatar_loss: 0.0365 - val_forward_loss: 0.0184 - val_read_comment_auc_13: 0.9246 - val_like_auc_13: 0.8406 - val_click_avatar_auc_13: 0.8171 - val_forward_auc_13: 0.8297 - lr: 0.0075\n",
            "Epoch 16/200\n",
            "656/656 [==============================] - 13s 20ms/step - loss: 0.2384 - read_comment_loss: 0.0856 - like_loss: 0.0851 - click_avatar_loss: 0.0322 - forward_loss: 0.0176 - read_comment_auc_13: 0.9450 - like_auc_13: 0.8836 - click_avatar_auc_13: 0.8901 - forward_auc_13: 0.9033 - val_loss: 0.2525 - val_read_comment_loss: 0.0923 - val_like_loss: 0.0885 - val_click_avatar_loss: 0.0364 - val_forward_loss: 0.0185 - val_read_comment_auc_13: 0.9243 - val_like_auc_13: 0.8390 - val_click_avatar_auc_13: 0.8201 - val_forward_auc_13: 0.8151 - lr: 0.0075\n",
            "Epoch 17/200\n",
            "656/656 [==============================] - 13s 20ms/step - loss: 0.2382 - read_comment_loss: 0.0855 - like_loss: 0.0850 - click_avatar_loss: 0.0321 - forward_loss: 0.0175 - read_comment_auc_13: 0.9454 - like_auc_13: 0.8845 - click_avatar_auc_13: 0.8922 - forward_auc_13: 0.9067 - val_loss: 0.2525 - val_read_comment_loss: 0.0921 - val_like_loss: 0.0887 - val_click_avatar_loss: 0.0362 - val_forward_loss: 0.0186 - val_read_comment_auc_13: 0.9238 - val_like_auc_13: 0.8387 - val_click_avatar_auc_13: 0.8276 - val_forward_auc_13: 0.8154 - lr: 0.0075\n",
            "Epoch 18/200\n",
            "656/656 [==============================] - 14s 22ms/step - loss: 0.2380 - read_comment_loss: 0.0854 - like_loss: 0.0848 - click_avatar_loss: 0.0321 - forward_loss: 0.0174 - read_comment_auc_13: 0.9455 - like_auc_13: 0.8853 - click_avatar_auc_13: 0.8924 - forward_auc_13: 0.9077 - val_loss: 0.2528 - val_read_comment_loss: 0.0918 - val_like_loss: 0.0886 - val_click_avatar_loss: 0.0366 - val_forward_loss: 0.0187 - val_read_comment_auc_13: 0.9257 - val_like_auc_13: 0.8370 - val_click_avatar_auc_13: 0.8132 - val_forward_auc_13: 0.8104 - lr: 0.0075\n",
            "Epoch 19/200\n",
            "656/656 [==============================] - 14s 21ms/step - loss: 0.2378 - read_comment_loss: 0.0854 - like_loss: 0.0847 - click_avatar_loss: 0.0320 - forward_loss: 0.0174 - read_comment_auc_13: 0.9457 - like_auc_13: 0.8859 - click_avatar_auc_13: 0.8938 - forward_auc_13: 0.9089 - val_loss: 0.2528 - val_read_comment_loss: 0.0919 - val_like_loss: 0.0885 - val_click_avatar_loss: 0.0365 - val_forward_loss: 0.0187 - val_read_comment_auc_13: 0.9254 - val_like_auc_13: 0.8375 - val_click_avatar_auc_13: 0.8144 - val_forward_auc_13: 0.8151 - lr: 0.0075\n",
            "Epoch 20/200\n",
            "656/656 [==============================] - 13s 20ms/step - loss: 0.2376 - read_comment_loss: 0.0853 - like_loss: 0.0846 - click_avatar_loss: 0.0319 - forward_loss: 0.0174 - read_comment_auc_13: 0.9460 - like_auc_13: 0.8865 - click_avatar_auc_13: 0.8948 - forward_auc_13: 0.9096 - val_loss: 0.2542 - val_read_comment_loss: 0.0926 - val_like_loss: 0.0887 - val_click_avatar_loss: 0.0365 - val_forward_loss: 0.0191 - val_read_comment_auc_13: 0.9232 - val_like_auc_13: 0.8372 - val_click_avatar_auc_13: 0.8246 - val_forward_auc_13: 0.7997 - lr: 0.0075\n",
            "Epoch 21/200\n",
            "655/656 [============================>.] - ETA: 0s - loss: 0.2376 - read_comment_loss: 0.0852 - like_loss: 0.0845 - click_avatar_loss: 0.0319 - forward_loss: 0.0173 - read_comment_auc_13: 0.9461 - like_auc_13: 0.8870 - click_avatar_auc_13: 0.8946 - forward_auc_13: 0.9103\n",
            "Epoch 21: ReduceLROnPlateau reducing learning rate to 0.005624999874271452.\n",
            "656/656 [==============================] - 13s 20ms/step - loss: 0.2376 - read_comment_loss: 0.0852 - like_loss: 0.0845 - click_avatar_loss: 0.0319 - forward_loss: 0.0173 - read_comment_auc_13: 0.9461 - like_auc_13: 0.8870 - click_avatar_auc_13: 0.8946 - forward_auc_13: 0.9103 - val_loss: 0.2534 - val_read_comment_loss: 0.0918 - val_like_loss: 0.0886 - val_click_avatar_loss: 0.0366 - val_forward_loss: 0.0188 - val_read_comment_auc_13: 0.9254 - val_like_auc_13: 0.8367 - val_click_avatar_auc_13: 0.8190 - val_forward_auc_13: 0.8013 - lr: 0.0075\n",
            "Epoch 22/200\n",
            "656/656 [==============================] - 13s 20ms/step - loss: 0.2324 - read_comment_loss: 0.0842 - like_loss: 0.0832 - click_avatar_loss: 0.0310 - forward_loss: 0.0168 - read_comment_auc_13: 0.9481 - like_auc_13: 0.8930 - click_avatar_auc_13: 0.9053 - forward_auc_13: 0.9206 - val_loss: 0.2530 - val_read_comment_loss: 0.0922 - val_like_loss: 0.0888 - val_click_avatar_loss: 0.0370 - val_forward_loss: 0.0188 - val_read_comment_auc_13: 0.9244 - val_like_auc_13: 0.8362 - val_click_avatar_auc_13: 0.8155 - val_forward_auc_13: 0.8136 - lr: 0.0056\n",
            "Epoch 23/200\n",
            "656/656 [==============================] - 13s 20ms/step - loss: 0.2314 - read_comment_loss: 0.0840 - like_loss: 0.0828 - click_avatar_loss: 0.0308 - forward_loss: 0.0167 - read_comment_auc_13: 0.9485 - like_auc_13: 0.8949 - click_avatar_auc_13: 0.9071 - forward_auc_13: 0.9213 - val_loss: 0.2541 - val_read_comment_loss: 0.0923 - val_like_loss: 0.0890 - val_click_avatar_loss: 0.0373 - val_forward_loss: 0.0188 - val_read_comment_auc_13: 0.9235 - val_like_auc_13: 0.8347 - val_click_avatar_auc_13: 0.8115 - val_forward_auc_13: 0.8142 - lr: 0.0056\n",
            "Epoch 24/200\n",
            "656/656 [==============================] - 13s 20ms/step - loss: 0.2312 - read_comment_loss: 0.0838 - like_loss: 0.0824 - click_avatar_loss: 0.0306 - forward_loss: 0.0166 - read_comment_auc_13: 0.9487 - like_auc_13: 0.8964 - click_avatar_auc_13: 0.9086 - forward_auc_13: 0.9229 - val_loss: 0.2548 - val_read_comment_loss: 0.0923 - val_like_loss: 0.0889 - val_click_avatar_loss: 0.0373 - val_forward_loss: 0.0193 - val_read_comment_auc_13: 0.9232 - val_like_auc_13: 0.8356 - val_click_avatar_auc_13: 0.8108 - val_forward_auc_13: 0.8017 - lr: 0.0056\n",
            "Epoch 25/200\n",
            "656/656 [==============================] - 14s 21ms/step - loss: 0.2307 - read_comment_loss: 0.0837 - like_loss: 0.0821 - click_avatar_loss: 0.0304 - forward_loss: 0.0166 - read_comment_auc_13: 0.9491 - like_auc_13: 0.8980 - click_avatar_auc_13: 0.9108 - forward_auc_13: 0.9243 - val_loss: 0.2556 - val_read_comment_loss: 0.0924 - val_like_loss: 0.0893 - val_click_avatar_loss: 0.0372 - val_forward_loss: 0.0194 - val_read_comment_auc_13: 0.9231 - val_like_auc_13: 0.8328 - val_click_avatar_auc_13: 0.8072 - val_forward_auc_13: 0.7967 - lr: 0.0056\n",
            "Epoch 26/200\n",
            "656/656 [==============================] - 13s 20ms/step - loss: 0.2304 - read_comment_loss: 0.0835 - like_loss: 0.0818 - click_avatar_loss: 0.0303 - forward_loss: 0.0165 - read_comment_auc_13: 0.9495 - like_auc_13: 0.8994 - click_avatar_auc_13: 0.9114 - forward_auc_13: 0.9253 - val_loss: 0.2563 - val_read_comment_loss: 0.0925 - val_like_loss: 0.0893 - val_click_avatar_loss: 0.0372 - val_forward_loss: 0.0195 - val_read_comment_auc_13: 0.9234 - val_like_auc_13: 0.8324 - val_click_avatar_auc_13: 0.8105 - val_forward_auc_13: 0.7885 - lr: 0.0056\n",
            "Epoch 27/200\n",
            "656/656 [==============================] - 13s 21ms/step - loss: 0.2301 - read_comment_loss: 0.0833 - like_loss: 0.0815 - click_avatar_loss: 0.0301 - forward_loss: 0.0165 - read_comment_auc_13: 0.9499 - like_auc_13: 0.9009 - click_avatar_auc_13: 0.9138 - forward_auc_13: 0.9241 - val_loss: 0.2576 - val_read_comment_loss: 0.0927 - val_like_loss: 0.0898 - val_click_avatar_loss: 0.0378 - val_forward_loss: 0.0193 - val_read_comment_auc_13: 0.9225 - val_like_auc_13: 0.8301 - val_click_avatar_auc_13: 0.8037 - val_forward_auc_13: 0.8025 - lr: 0.0056\n",
            "Epoch 28/200\n",
            "656/656 [==============================] - 13s 20ms/step - loss: 0.2296 - read_comment_loss: 0.0832 - like_loss: 0.0812 - click_avatar_loss: 0.0299 - forward_loss: 0.0164 - read_comment_auc_13: 0.9501 - like_auc_13: 0.9021 - click_avatar_auc_13: 0.9153 - forward_auc_13: 0.9254 - val_loss: 0.2580 - val_read_comment_loss: 0.0932 - val_like_loss: 0.0897 - val_click_avatar_loss: 0.0377 - val_forward_loss: 0.0191 - val_read_comment_auc_13: 0.9204 - val_like_auc_13: 0.8311 - val_click_avatar_auc_13: 0.8040 - val_forward_auc_13: 0.8025 - lr: 0.0056\n",
            "Epoch 29/200\n",
            "656/656 [==============================] - 13s 20ms/step - loss: 0.2295 - read_comment_loss: 0.0831 - like_loss: 0.0809 - click_avatar_loss: 0.0298 - forward_loss: 0.0163 - read_comment_auc_13: 0.9502 - like_auc_13: 0.9034 - click_avatar_auc_13: 0.9156 - forward_auc_13: 0.9281 - val_loss: 0.2607 - val_read_comment_loss: 0.0937 - val_like_loss: 0.0906 - val_click_avatar_loss: 0.0383 - val_forward_loss: 0.0195 - val_read_comment_auc_13: 0.9204 - val_like_auc_13: 0.8257 - val_click_avatar_auc_13: 0.7982 - val_forward_auc_13: 0.8035 - lr: 0.0056\n",
            "Epoch 30/200\n",
            "656/656 [==============================] - 14s 21ms/step - loss: 0.2292 - read_comment_loss: 0.0830 - like_loss: 0.0807 - click_avatar_loss: 0.0297 - forward_loss: 0.0163 - read_comment_auc_13: 0.9505 - like_auc_13: 0.9045 - click_avatar_auc_13: 0.9168 - forward_auc_13: 0.9281 - val_loss: 0.2603 - val_read_comment_loss: 0.0932 - val_like_loss: 0.0904 - val_click_avatar_loss: 0.0383 - val_forward_loss: 0.0195 - val_read_comment_auc_13: 0.9210 - val_like_auc_13: 0.8281 - val_click_avatar_auc_13: 0.7993 - val_forward_auc_13: 0.7965 - lr: 0.0056\n",
            "Epoch 31/200\n",
            "656/656 [==============================] - 14s 21ms/step - loss: 0.2290 - read_comment_loss: 0.0829 - like_loss: 0.0804 - click_avatar_loss: 0.0296 - forward_loss: 0.0162 - read_comment_auc_13: 0.9507 - like_auc_13: 0.9055 - click_avatar_auc_13: 0.9175 - forward_auc_13: 0.9290 - val_loss: 0.2609 - val_read_comment_loss: 0.0933 - val_like_loss: 0.0908 - val_click_avatar_loss: 0.0380 - val_forward_loss: 0.0195 - val_read_comment_auc_13: 0.9203 - val_like_auc_13: 0.8253 - val_click_avatar_auc_13: 0.8018 - val_forward_auc_13: 0.8034 - lr: 0.0056\n",
            "Epoch 32/200\n",
            "656/656 [==============================] - 14s 21ms/step - loss: 0.2288 - read_comment_loss: 0.0828 - like_loss: 0.0802 - click_avatar_loss: 0.0295 - forward_loss: 0.0162 - read_comment_auc_13: 0.9508 - like_auc_13: 0.9067 - click_avatar_auc_13: 0.9188 - forward_auc_13: 0.9285 - val_loss: 0.2610 - val_read_comment_loss: 0.0930 - val_like_loss: 0.0908 - val_click_avatar_loss: 0.0380 - val_forward_loss: 0.0196 - val_read_comment_auc_13: 0.9206 - val_like_auc_13: 0.8249 - val_click_avatar_auc_13: 0.7991 - val_forward_auc_13: 0.7897 - lr: 0.0056\n",
            "Epoch 33/200\n",
            "656/656 [==============================] - 14s 21ms/step - loss: 0.2286 - read_comment_loss: 0.0827 - like_loss: 0.0799 - click_avatar_loss: 0.0294 - forward_loss: 0.0162 - read_comment_auc_13: 0.9508 - like_auc_13: 0.9077 - click_avatar_auc_13: 0.9198 - forward_auc_13: 0.9282 - val_loss: 0.2627 - val_read_comment_loss: 0.0935 - val_like_loss: 0.0917 - val_click_avatar_loss: 0.0382 - val_forward_loss: 0.0194 - val_read_comment_auc_13: 0.9197 - val_like_auc_13: 0.8200 - val_click_avatar_auc_13: 0.8010 - val_forward_auc_13: 0.7947 - lr: 0.0056\n",
            "Epoch 34/200\n",
            "656/656 [==============================] - 13s 21ms/step - loss: 0.2284 - read_comment_loss: 0.0827 - like_loss: 0.0797 - click_avatar_loss: 0.0293 - forward_loss: 0.0161 - read_comment_auc_13: 0.9511 - like_auc_13: 0.9087 - click_avatar_auc_13: 0.9211 - forward_auc_13: 0.9286 - val_loss: 0.2625 - val_read_comment_loss: 0.0932 - val_like_loss: 0.0912 - val_click_avatar_loss: 0.0387 - val_forward_loss: 0.0195 - val_read_comment_auc_13: 0.9203 - val_like_auc_13: 0.8231 - val_click_avatar_auc_13: 0.7974 - val_forward_auc_13: 0.7983 - lr: 0.0056\n",
            "Epoch 35/200\n",
            "655/656 [============================>.] - ETA: 0s - loss: 0.2282 - read_comment_loss: 0.0826 - like_loss: 0.0795 - click_avatar_loss: 0.0292 - forward_loss: 0.0161 - read_comment_auc_13: 0.9513 - like_auc_13: 0.9095 - click_avatar_auc_13: 0.9224 - forward_auc_13: 0.9313Restoring model weights from the end of the best epoch: 5.\n",
            "656/656 [==============================] - 14s 21ms/step - loss: 0.2282 - read_comment_loss: 0.0826 - like_loss: 0.0795 - click_avatar_loss: 0.0292 - forward_loss: 0.0161 - read_comment_auc_13: 0.9513 - like_auc_13: 0.9095 - click_avatar_auc_13: 0.9224 - forward_auc_13: 0.9313 - val_loss: 0.2629 - val_read_comment_loss: 0.0932 - val_like_loss: 0.0912 - val_click_avatar_loss: 0.0384 - val_forward_loss: 0.0198 - val_read_comment_auc_13: 0.9205 - val_like_auc_13: 0.8222 - val_click_avatar_auc_13: 0.7957 - val_forward_auc_13: 0.7927 - lr: 0.0056\n",
            "Epoch 35: early stopping\n"
          ]
        }
      ]
    },
    {
      "cell_type": "code",
      "source": [
        ""
      ],
      "metadata": {
        "id": "GTtn8ukjhDVB"
      },
      "execution_count": null,
      "outputs": []
    }
  ],
  "metadata": {
    "accelerator": "GPU",
    "colab": {
      "collapsed_sections": [
        "XlJgKlOlNTcV",
        "q_NVJJf0xT2z"
      ],
      "name": "单模，sharebutton，mmoe，ple.ipynb",
      "provenance": [],
      "toc_visible": true,
      "machine_shape": "hm"
    },
    "kernelspec": {
      "display_name": "Python 3 (ipykernel)",
      "language": "python",
      "name": "python3"
    },
    "language_info": {
      "codemirror_mode": {
        "name": "ipython",
        "version": 3
      },
      "file_extension": ".py",
      "mimetype": "text/x-python",
      "name": "python",
      "nbconvert_exporter": "python",
      "pygments_lexer": "ipython3",
      "version": "3.9.5"
    },
    "toc": {
      "base_numbering": 1,
      "nav_menu": {},
      "number_sections": true,
      "sideBar": true,
      "skip_h1_title": false,
      "title_cell": "Table of Contents",
      "title_sidebar": "Contents",
      "toc_cell": false,
      "toc_position": {},
      "toc_section_display": true,
      "toc_window_display": false
    }
  },
  "nbformat": 4,
  "nbformat_minor": 0
}